{
 "cells": [
  {
   "metadata": {},
   "cell_type": "code",
   "outputs": [],
   "execution_count": null,
   "source": [
    "import datasets.eurosat\n",
    "import datasets.core\n",
    "\n",
    "import torch\n",
    "from torch import nn\n",
    "import torchvision.transforms as transforms\n",
    "import matplotlib.pyplot as plt\n",
    "import einops.einops as einops"
   ],
   "id": "dd8b7e4bd3edc59b"
  },
  {
   "metadata": {},
   "cell_type": "markdown",
   "source": "# Replicating original EuroSAT paper",
   "id": "a5e771a7e0c0ac09"
  },
  {
   "metadata": {
    "ExecuteTime": {
     "end_time": "2024-11-06T17:19:35.455493Z",
     "start_time": "2024-11-06T17:19:35.419071Z"
    }
   },
   "cell_type": "code",
   "source": [
    "device = torch.device(\"cuda\" if torch.cuda.is_available() else \"cpu\")\n",
    "print(f\"Using {device}\")"
   ],
   "id": "36b2fc603d4945a5",
   "outputs": [
    {
     "name": "stdout",
     "output_type": "stream",
     "text": [
      "Using cuda\n"
     ]
    }
   ],
   "execution_count": 2
  },
  {
   "metadata": {
    "ExecuteTime": {
     "end_time": "2024-11-06T17:19:35.769069Z",
     "start_time": "2024-11-06T17:19:35.755069Z"
    }
   },
   "cell_type": "code",
   "source": [
    "resize_transform = datasets.core.tensor_dict_transform_wrapper(transforms.Compose([\n",
    "    # transforms.Resize((224, 224), antialias=False),  # authors rescale images\n",
    "    datasets.core.ClampTransform()\n",
    "]))"
   ],
   "id": "140c5d9f3e9849fd",
   "outputs": [],
   "execution_count": 3
  },
  {
   "metadata": {
    "ExecuteTime": {
     "end_time": "2024-11-06T17:19:36.033618Z",
     "start_time": "2024-11-06T17:19:35.786153Z"
    }
   },
   "cell_type": "code",
   "source": [
    "eurosat_train_ds = datasets.eurosat.get_dataset(\"train\", transforms=resize_transform)\n",
    "eurosat_test_ds = datasets.eurosat.get_dataset(\"test\", transforms=resize_transform)\n",
    "print(f\"There are {len(eurosat_train_ds)} training samples and {len(eurosat_test_ds)} test samples.\")"
   ],
   "id": "263f72638e7146ae",
   "outputs": [
    {
     "name": "stdout",
     "output_type": "stream",
     "text": [
      "There are 16200 training samples and 5400 test samples.\n"
     ]
    }
   ],
   "execution_count": 4
  },
  {
   "metadata": {
    "ExecuteTime": {
     "end_time": "2024-11-06T17:19:36.157Z",
     "start_time": "2024-11-06T17:19:36.114955Z"
    }
   },
   "cell_type": "code",
   "source": "eurosat_train_ds[0][\"image\"]",
   "id": "fd8740f9bf233451",
   "outputs": [
    {
     "data": {
      "text/plain": [
       "tensor([[[0.5818, 0.5818, 0.5778,  ..., 0.3949, 0.4062, 0.4000],\n",
       "         [0.5818, 0.5818, 0.5778,  ..., 0.3949, 0.4062, 0.4000],\n",
       "         [0.5636, 0.5636, 0.5622,  ..., 0.4000, 0.4007, 0.4011],\n",
       "         ...,\n",
       "         [0.5538, 0.5538, 0.5487,  ..., 0.4007, 0.3949, 0.3953],\n",
       "         [0.5164, 0.5164, 0.5025,  ..., 0.4084, 0.4105, 0.4193],\n",
       "         [0.4778, 0.4778, 0.4676,  ..., 0.4095, 0.4145, 0.4258]],\n",
       "\n",
       "        [[0.4695, 0.4695, 0.4658,  ..., 0.3556, 0.3571, 0.3593],\n",
       "         [0.4695, 0.4695, 0.4658,  ..., 0.3556, 0.3571, 0.3593],\n",
       "         [0.4571, 0.4571, 0.4589,  ..., 0.3600, 0.3567, 0.3556],\n",
       "         ...,\n",
       "         [0.4524, 0.4524, 0.4455,  ..., 0.3553, 0.3535, 0.3560],\n",
       "         [0.4353, 0.4353, 0.4305,  ..., 0.3640, 0.3669, 0.3720],\n",
       "         [0.4153, 0.4153, 0.4058,  ..., 0.3691, 0.3687, 0.3756]],\n",
       "\n",
       "        [[0.4695, 0.4695, 0.4655,  ..., 0.3938, 0.3993, 0.3953],\n",
       "         [0.4695, 0.4695, 0.4655,  ..., 0.3938, 0.3993, 0.3953],\n",
       "         [0.4615, 0.4615, 0.4665,  ..., 0.3975, 0.3927, 0.3967],\n",
       "         ...,\n",
       "         [0.4622, 0.4622, 0.4545,  ..., 0.3989, 0.3945, 0.3964],\n",
       "         [0.4473, 0.4473, 0.4462,  ..., 0.4047, 0.4047, 0.4109],\n",
       "         [0.4309, 0.4309, 0.4309,  ..., 0.4007, 0.4062, 0.4105]]])"
      ]
     },
     "execution_count": 5,
     "metadata": {},
     "output_type": "execute_result"
    }
   ],
   "execution_count": 5
  },
  {
   "metadata": {
    "ExecuteTime": {
     "end_time": "2024-11-06T17:19:47.217719Z",
     "start_time": "2024-11-06T17:19:47.089290Z"
    }
   },
   "cell_type": "code",
   "source": "plt.imshow(einops.rearrange(eurosat_train_ds[0][\"image\"], \"c h w -> h w c\"))",
   "id": "f4f6741b12412731",
   "outputs": [
    {
     "data": {
      "text/plain": [
       "<matplotlib.image.AxesImage at 0x23f39fd3520>"
      ]
     },
     "execution_count": 7,
     "metadata": {},
     "output_type": "execute_result"
    },
    {
     "data": {
      "text/plain": [
       "<Figure size 640x480 with 1 Axes>"
      ],
      "image/png": "[encoded data removed]"
     },
     "metadata": {},
     "output_type": "display_data"
    }
   ],
   "execution_count": 7
  },
  {
   "metadata": {},
   "cell_type": "markdown",
   "source": "## Basic CNN",
   "id": "1e8b1e484bdcb7a1"
  },
  {
   "metadata": {},
   "cell_type": "code",
   "outputs": [],
   "execution_count": null,
   "source": [
    "class BaseCNN(nn.Module):\n",
    "    def __init__(self):\n",
    "        super().__init__()\n",
    "        self.layer_unit = nn.Sequential(\n",
    "            nn.Conv2d()\n",
    "        )"
   ],
   "id": "fb57afcfaf814115"
  }
 ],
 "metadata": {
  "kernelspec": {
   "display_name": "Python 3",
   "language": "python",
   "name": "python3"
  },
  "language_info": {
   "codemirror_mode": {
    "name": "ipython",
    "version": 2
   },
   "file_extension": ".py",
   "mimetype": "text/x-python",
   "name": "python",
   "nbconvert_exporter": "python",
   "pygments_lexer": "ipython2",
   "version": "2.7.6"
  }
 },
 "nbformat": 4,
 "nbformat_minor": 5
}
