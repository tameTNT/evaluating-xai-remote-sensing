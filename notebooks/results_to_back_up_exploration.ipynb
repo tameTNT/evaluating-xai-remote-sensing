{
 "cells": [
  {
   "metadata": {},
   "cell_type": "code",
   "outputs": [],
   "execution_count": null,
   "source": "# Imports",
   "id": "58de8a50a8bd8128"
  },
  {
   "metadata": {},
   "cell_type": "code",
   "outputs": [],
   "execution_count": null,
   "source": "%load_ext autoreload",
   "id": "1956fe0d43e4d51"
  },
  {
   "metadata": {},
   "cell_type": "code",
   "outputs": [],
   "execution_count": null,
   "source": "%autoreload 2",
   "id": "77621828ce91b324"
  },
  {
   "metadata": {},
   "cell_type": "code",
   "outputs": [],
   "execution_count": null,
   "source": [
    "import os\n",
    "os.chdir(\"/home2/jgcw74/l3_project\")  # go to project root\n",
    "import importlib\n",
    "\n",
    "import helpers\n",
    "import dataset_processing\n",
    "import models\n",
    "import xai\n",
    "\n",
    "torch_device = helpers.utils.get_torch_device()"
   ],
   "id": "cf276fbbf7a0ec49"
  },
  {
   "metadata": {},
   "cell_type": "code",
   "outputs": [],
   "execution_count": null,
   "source": [
    "import typing as t\n",
    "from pathlib import Path\n",
    "import json\n",
    "\n",
    "import torch\n",
    "import pandas as pd\n",
    "import numpy as np\n",
    "import matplotlib.pyplot as plt"
   ],
   "id": "97a99f08d27f4b86"
  },
  {
   "metadata": {},
   "cell_type": "code",
   "outputs": [],
   "execution_count": null,
   "source": "AVAILABLE_MODELS = (\"ConvNeXtSmall\", \"ResNet50\", \"SwinTransformerSmall\")",
   "id": "d7be36fef32003d2"
  },
  {
   "metadata": {},
   "cell_type": "markdown",
   "source": "# Helper functions",
   "id": "629fc1fb6c57c713"
  },
  {
   "metadata": {},
   "cell_type": "code",
   "outputs": [],
   "execution_count": null,
   "source": [
    "def get_dataset_and_model(dataset_n: dataset_processing.DATASET_NAMES, model_n: models.MODEL_NAMES):\n",
    "    model_type = models.get_model_type(model_n)\n",
    "    ds = dataset_processing.get_dataset_object(dataset_n, \"test\", model_type.expected_input_dim, 32, 4, torch_device)\n",
    "\n",
    "    m = model_type(False, ds.N_BANDS, ds.N_CLASSES).to(torch_device)\n",
    "    weights_path = json.load(Path(\"weights_paths.json\").open(\"r\"))[dataset_n][model_n]\n",
    "    m.load_weights(Path(\"checkpoints\") / dataset_n / model_n / weights_path)\n",
    "\n",
    "    return ds, m"
   ],
   "id": "6b5d36bac9d92012"
  },
  {
   "metadata": {},
   "cell_type": "markdown",
   "source": "# Figure 1 - KPCACAM on EuroSATMS",
   "id": "6189d0421407e31d"
  },
  {
   "metadata": {},
   "cell_type": "code",
   "outputs": [],
   "execution_count": null,
   "source": [
    "dataset_name = \"EuroSATMS\"\n",
    "dataset, model = get_dataset_and_model(dataset_name, \"ResNet50\")\n",
    "print(list(enumerate(dataset.classes)))"
   ],
   "id": "c0291fef2ea5a714"
  },
  {
   "metadata": {},
   "cell_type": "code",
   "outputs": [],
   "execution_count": null,
   "source": [
    "class_idx = 8\n",
    "batch_num = 0\n",
    "kpca_exp = xai.get_explainer_object(\n",
    "    \"KPCACAM\", model,\n",
    "    extra_path=Path(dataset_name) / f\"c{class_idx:02}\" / f\"b{batch_num:03}\",\n",
    ")\n",
    "kpca_exp.force_load()"
   ],
   "id": "c2d3e96505096ca8"
  },
  {
   "metadata": {},
   "cell_type": "code",
   "outputs": [],
   "execution_count": null,
   "source": [
    "importlib.reload(helpers.plotting)\n",
    "helpers.plotting.show_image(kpca_exp.input[:8])"
   ],
   "id": "54db3ab21c13ef2a"
  },
  {
   "metadata": {},
   "cell_type": "code",
   "outputs": [],
   "execution_count": null,
   "source": "helpers.plotting.visualise_importance(kpca_exp.input.numpy(force=True)[:8], kpca_exp.explanation[:8], alpha=0.5, with_colorbar=False, band_idxs=dataset.rgb_indices)",
   "id": "c6b9cbed7ea1a285"
  },
  {
   "metadata": {},
   "cell_type": "code",
   "outputs": [],
   "execution_count": null,
   "source": [
    "randomised_exp = xai.get_explainer_object(\n",
    "    \"KPCACAM\", model,\n",
    "    extra_path=Path(dataset_name) / f\"c{class_idx:02}\" / \"combined\" / \"randomised\",\n",
    ")\n",
    "randomised_exp.force_load()"
   ],
   "id": "e7f2d52c88e430c5"
  },
  {
   "metadata": {},
   "cell_type": "code",
   "outputs": [],
   "execution_count": null,
   "source": "helpers.plotting.visualise_importance(randomised_exp.input.numpy(force=True)[:8], randomised_exp.explanation[:8], alpha=0.5, with_colorbar=False, band_idxs=dataset.rgb_indices)",
   "id": "1e94ab848f8ad857"
  },
  {
   "metadata": {},
   "cell_type": "markdown",
   "source": "Extremely similar explanations to those provided for the un-randomised model.",
   "id": "62907cee310d991a"
  },
  {
   "metadata": {},
   "cell_type": "code",
   "outputs": [],
   "execution_count": null,
   "source": "",
   "id": "121e3d226d746cc5"
  }
 ],
 "metadata": {},
 "nbformat": 5,
 "nbformat_minor": 9
}
