{
 "cells": [
  {
   "metadata": {
    "ExecuteTime": {
     "end_time": "2025-04-07T18:12:35.943244Z",
     "start_time": "2025-04-07T18:12:35.163488Z"
    }
   },
   "cell_type": "code",
   "source": [
    "import pandas as pd\n",
    "import numpy as np"
   ],
   "id": "219cd4920ebc7c6d",
   "outputs": [],
   "execution_count": 1
  },
  {
   "metadata": {
    "ExecuteTime": {
     "end_time": "2025-04-07T18:12:39.039406Z",
     "start_time": "2025-04-07T18:12:36.794785Z"
    }
   },
   "cell_type": "code",
   "source": [
    "import os\n",
    "os.chdir(\"..\")\n",
    "import helpers"
   ],
   "id": "bb25d1c9894b6830",
   "outputs": [
    {
     "name": "stderr",
     "output_type": "stream",
     "text": [
      "/Users/lucah/Library/CloudStorage/OneDrive-DurhamUniversity/cs_project/helpers/ml.py:5: TqdmExperimentalWarning: Using `tqdm.autonotebook.tqdm` in notebook mode. Use `tqdm.tqdm` instead to force console mode (e.g. in jupyter console)\n",
      "  from tqdm.autonotebook import tqdm\n"
     ]
    },
    {
     "ename": "KeyboardInterrupt",
     "evalue": "",
     "output_type": "error",
     "traceback": [
      "\u001B[0;31m---------------------------------------------------------------------------\u001B[0m",
      "\u001B[0;31mKeyboardInterrupt\u001B[0m                         Traceback (most recent call last)",
      "Cell \u001B[0;32mIn[2], line 3\u001B[0m\n\u001B[1;32m      1\u001B[0m \u001B[38;5;28;01mimport\u001B[39;00m \u001B[38;5;21;01mos\u001B[39;00m\n\u001B[1;32m      2\u001B[0m os\u001B[38;5;241m.\u001B[39mchdir(\u001B[38;5;124m\"\u001B[39m\u001B[38;5;124m..\u001B[39m\u001B[38;5;124m\"\u001B[39m)\n\u001B[0;32m----> 3\u001B[0m \u001B[38;5;28;01mimport\u001B[39;00m \u001B[38;5;21;01mhelpers\u001B[39;00m\n",
      "File \u001B[0;32m~/Library/CloudStorage/OneDrive-DurhamUniversity/cs_project/helpers/__init__.py:4\u001B[0m\n\u001B[1;32m      2\u001B[0m \u001B[38;5;28;01mfrom\u001B[39;00m \u001B[38;5;21;01m.\u001B[39;00m \u001B[38;5;28;01mimport\u001B[39;00m log  \u001B[38;5;66;03m# must import first for other modules to log\u001B[39;00m\n\u001B[1;32m      3\u001B[0m \u001B[38;5;28;01mfrom\u001B[39;00m \u001B[38;5;21;01m.\u001B[39;00m \u001B[38;5;28;01mimport\u001B[39;00m ml\n\u001B[0;32m----> 4\u001B[0m \u001B[38;5;28;01mfrom\u001B[39;00m \u001B[38;5;21;01m.\u001B[39;00m \u001B[38;5;28;01mimport\u001B[39;00m plotting\n\u001B[1;32m      5\u001B[0m \u001B[38;5;28;01mfrom\u001B[39;00m \u001B[38;5;21;01m.\u001B[39;00m \u001B[38;5;28;01mimport\u001B[39;00m utils\n",
      "File \u001B[0;32m~/Library/CloudStorage/OneDrive-DurhamUniversity/cs_project/helpers/plotting.py:4\u001B[0m\n\u001B[1;32m      1\u001B[0m \u001B[38;5;28;01mimport\u001B[39;00m \u001B[38;5;21;01mtyping\u001B[39;00m \u001B[38;5;28;01mas\u001B[39;00m \u001B[38;5;21;01mt\u001B[39;00m\n\u001B[1;32m      3\u001B[0m \u001B[38;5;28;01mimport\u001B[39;00m \u001B[38;5;21;01meinops\u001B[39;00m\n\u001B[0;32m----> 4\u001B[0m \u001B[38;5;28;01mimport\u001B[39;00m \u001B[38;5;21;01mmatplotlib\u001B[39;00m\u001B[38;5;21;01m.\u001B[39;00m\u001B[38;5;21;01mpyplot\u001B[39;00m \u001B[38;5;28;01mas\u001B[39;00m \u001B[38;5;21;01mplt\u001B[39;00m\n\u001B[1;32m      5\u001B[0m \u001B[38;5;28;01mimport\u001B[39;00m \u001B[38;5;21;01mnumpy\u001B[39;00m \u001B[38;5;28;01mas\u001B[39;00m \u001B[38;5;21;01mnp\u001B[39;00m\n\u001B[1;32m      6\u001B[0m \u001B[38;5;28;01mimport\u001B[39;00m \u001B[38;5;21;01mpandas\u001B[39;00m \u001B[38;5;28;01mas\u001B[39;00m \u001B[38;5;21;01mpd\u001B[39;00m\n",
      "File \u001B[0;32m/opt/anaconda3/envs/sat_project/lib/python3.10/site-packages/matplotlib/__init__.py:161\u001B[0m\n\u001B[1;32m    157\u001B[0m \u001B[38;5;28;01mfrom\u001B[39;00m \u001B[38;5;21;01mpackaging\u001B[39;00m\u001B[38;5;21;01m.\u001B[39;00m\u001B[38;5;21;01mversion\u001B[39;00m \u001B[38;5;28;01mimport\u001B[39;00m parse \u001B[38;5;28;01mas\u001B[39;00m parse_version\n\u001B[1;32m    159\u001B[0m \u001B[38;5;66;03m# cbook must import matplotlib only within function\u001B[39;00m\n\u001B[1;32m    160\u001B[0m \u001B[38;5;66;03m# definitions, so it is safe to import from it here.\u001B[39;00m\n\u001B[0;32m--> 161\u001B[0m \u001B[38;5;28;01mfrom\u001B[39;00m \u001B[38;5;21;01m.\u001B[39;00m \u001B[38;5;28;01mimport\u001B[39;00m _api, _version, cbook, _docstring, rcsetup\n\u001B[1;32m    162\u001B[0m \u001B[38;5;28;01mfrom\u001B[39;00m \u001B[38;5;21;01mmatplotlib\u001B[39;00m\u001B[38;5;21;01m.\u001B[39;00m\u001B[38;5;21;01m_api\u001B[39;00m \u001B[38;5;28;01mimport\u001B[39;00m MatplotlibDeprecationWarning\n\u001B[1;32m    163\u001B[0m \u001B[38;5;28;01mfrom\u001B[39;00m \u001B[38;5;21;01mmatplotlib\u001B[39;00m\u001B[38;5;21;01m.\u001B[39;00m\u001B[38;5;21;01mrcsetup\u001B[39;00m \u001B[38;5;28;01mimport\u001B[39;00m cycler  \u001B[38;5;66;03m# noqa: F401\u001B[39;00m\n",
      "File \u001B[0;32m/opt/anaconda3/envs/sat_project/lib/python3.10/site-packages/matplotlib/rcsetup.py:28\u001B[0m\n\u001B[1;32m     26\u001B[0m \u001B[38;5;28;01mfrom\u001B[39;00m \u001B[38;5;21;01mmatplotlib\u001B[39;00m\u001B[38;5;21;01m.\u001B[39;00m\u001B[38;5;21;01mbackends\u001B[39;00m \u001B[38;5;28;01mimport\u001B[39;00m BackendFilter, backend_registry\n\u001B[1;32m     27\u001B[0m \u001B[38;5;28;01mfrom\u001B[39;00m \u001B[38;5;21;01mmatplotlib\u001B[39;00m\u001B[38;5;21;01m.\u001B[39;00m\u001B[38;5;21;01mcbook\u001B[39;00m \u001B[38;5;28;01mimport\u001B[39;00m ls_mapper\n\u001B[0;32m---> 28\u001B[0m \u001B[38;5;28;01mfrom\u001B[39;00m \u001B[38;5;21;01mmatplotlib\u001B[39;00m\u001B[38;5;21;01m.\u001B[39;00m\u001B[38;5;21;01mcolors\u001B[39;00m \u001B[38;5;28;01mimport\u001B[39;00m Colormap, is_color_like\n\u001B[1;32m     29\u001B[0m \u001B[38;5;28;01mfrom\u001B[39;00m \u001B[38;5;21;01mmatplotlib\u001B[39;00m\u001B[38;5;21;01m.\u001B[39;00m\u001B[38;5;21;01m_fontconfig_pattern\u001B[39;00m \u001B[38;5;28;01mimport\u001B[39;00m parse_fontconfig_pattern\n\u001B[1;32m     30\u001B[0m \u001B[38;5;28;01mfrom\u001B[39;00m \u001B[38;5;21;01mmatplotlib\u001B[39;00m\u001B[38;5;21;01m.\u001B[39;00m\u001B[38;5;21;01m_enums\u001B[39;00m \u001B[38;5;28;01mimport\u001B[39;00m JoinStyle, CapStyle\n",
      "File \u001B[0;32m/opt/anaconda3/envs/sat_project/lib/python3.10/site-packages/matplotlib/colors.py:58\u001B[0m\n\u001B[1;32m     56\u001B[0m \u001B[38;5;28;01mimport\u001B[39;00m \u001B[38;5;21;01mnumpy\u001B[39;00m \u001B[38;5;28;01mas\u001B[39;00m \u001B[38;5;21;01mnp\u001B[39;00m\n\u001B[1;32m     57\u001B[0m \u001B[38;5;28;01mfrom\u001B[39;00m \u001B[38;5;21;01mmatplotlib\u001B[39;00m \u001B[38;5;28;01mimport\u001B[39;00m _api, _cm, cbook, scale, _image\n\u001B[0;32m---> 58\u001B[0m \u001B[38;5;28;01mfrom\u001B[39;00m \u001B[38;5;21;01m.\u001B[39;00m\u001B[38;5;21;01m_color_data\u001B[39;00m \u001B[38;5;28;01mimport\u001B[39;00m BASE_COLORS, TABLEAU_COLORS, CSS4_COLORS, XKCD_COLORS\n\u001B[1;32m     61\u001B[0m \u001B[38;5;28;01mclass\u001B[39;00m \u001B[38;5;21;01m_ColorMapping\u001B[39;00m(\u001B[38;5;28mdict\u001B[39m):\n\u001B[1;32m     62\u001B[0m     \u001B[38;5;28;01mdef\u001B[39;00m \u001B[38;5;21m__init__\u001B[39m(\u001B[38;5;28mself\u001B[39m, mapping):\n",
      "File \u001B[0;32m<frozen importlib._bootstrap>:1027\u001B[0m, in \u001B[0;36m_find_and_load\u001B[0;34m(name, import_)\u001B[0m\n",
      "File \u001B[0;32m<frozen importlib._bootstrap>:1006\u001B[0m, in \u001B[0;36m_find_and_load_unlocked\u001B[0;34m(name, import_)\u001B[0m\n",
      "File \u001B[0;32m<frozen importlib._bootstrap>:688\u001B[0m, in \u001B[0;36m_load_unlocked\u001B[0;34m(spec)\u001B[0m\n",
      "File \u001B[0;32m<frozen importlib._bootstrap_external>:879\u001B[0m, in \u001B[0;36mexec_module\u001B[0;34m(self, module)\u001B[0m\n",
      "File \u001B[0;32m<frozen importlib._bootstrap_external>:1012\u001B[0m, in \u001B[0;36mget_code\u001B[0;34m(self, fullname)\u001B[0m\n",
      "File \u001B[0;32m<frozen importlib._bootstrap_external>:672\u001B[0m, in \u001B[0;36m_compile_bytecode\u001B[0;34m(data, name, bytecode_path, source_path)\u001B[0m\n",
      "\u001B[0;31mKeyboardInterrupt\u001B[0m: "
     ]
    }
   ],
   "execution_count": 2
  },
  {
   "metadata": {},
   "cell_type": "markdown",
   "source": "## Check all HDF5 files for NaN values",
   "id": "ee7a24654ba6577d"
  },
  {
   "metadata": {
    "ExecuteTime": {
     "end_time": "2025-04-07T15:21:48.329493Z",
     "start_time": "2025-04-07T15:21:48.236036Z"
    }
   },
   "cell_type": "code",
   "source": [
    "stores = []\n",
    "for explainer_name in (\"GradCAM\", \"KPCACAM\", \"PartitionSHAP\"):\n",
    "    h5_output_path = helpers.env_var.get_project_root() / \"results\" / explainer_name / \"evaluation_output.h5\"\n",
    "    stores.append(pd.HDFStore(str(h5_output_path), mode=\"r\"))"
   ],
   "id": "c41046d9214711f9",
   "outputs": [],
   "execution_count": 4
  },
  {
   "metadata": {
    "ExecuteTime": {
     "end_time": "2025-04-07T15:27:13.277040Z",
     "start_time": "2025-04-07T15:27:13.195258Z"
    }
   },
   "cell_type": "code",
   "source": [
    "for s in stores:\n",
    "    print(s)\n",
    "    for table_name in s.keys():\n",
    "        name = table_name.strip(\"/\")\n",
    "        df: pd.DataFrame = s[name]\n",
    "        if df.isna().sum().sum() != 0:\n",
    "            print(name)\n",
    "            df.info()"
   ],
   "id": "cfd8ca1f3ae06dd0",
   "outputs": [
    {
     "name": "stdout",
     "output_type": "stream",
     "text": [
      "<class 'pandas.io.pytables.HDFStore'>\n",
      "File path: /Users/lucah/Library/CloudStorage/OneDrive-DurhamUniversity/cs_project/results/GradCAM/evaluation_output.h5\n",
      "\n",
      "<class 'pandas.io.pytables.HDFStore'>\n",
      "File path: /Users/lucah/Library/CloudStorage/OneDrive-DurhamUniversity/cs_project/results/KPCACAM/evaluation_output.h5\n",
      "\n",
      "<class 'pandas.io.pytables.HDFStore'>\n",
      "File path: /Users/lucah/Library/CloudStorage/OneDrive-DurhamUniversity/cs_project/results/PartitionSHAP/evaluation_output.h5\n",
      "\n",
      "EuroSATMS_SwinTransformerSmall\n",
      "<class 'pandas.core.frame.DataFrame'>\n",
      "Index: 10 entries, AnnualCrop to SeaLake\n",
      "Data columns (total 16 columns):\n",
      " #   Column                                                                 Non-Null Count  Dtype  \n",
      "---  ------                                                                 --------------  -----  \n",
      " 0   correctness : randomised_model_similarity : l2_distance                2 non-null      float64\n",
      " 1   correctness : randomised_model_similarity : spearman_rank              2 non-null      float64\n",
      " 2   correctness : randomised_model_similarity : top_k_intersection         2 non-null      float64\n",
      " 3   correctness : randomised_model_similarity : structural_similarity      2 non-null      float64\n",
      " 4   correctness : incremental_deletion_auc_ratio                           2 non-null      float64\n",
      " 5   output_completeness : deletion_check_conf_drop                         2 non-null      float64\n",
      " 6   output_completeness : preservation_check_conf_drop                     2 non-null      float64\n",
      " 7   continuity : perturbation_similarity : l2_distance                     2 non-null      float64\n",
      " 8   continuity : perturbation_similarity : spearman_rank                   2 non-null      float64\n",
      " 9   continuity : perturbation_similarity : top_k_intersection              2 non-null      float64\n",
      " 10  continuity : perturbation_similarity : structural_similarity           2 non-null      float64\n",
      " 11  contrastivity : adversarial_attack_similarity : l2_distance            2 non-null      float64\n",
      " 12  contrastivity : adversarial_attack_similarity : spearman_rank          2 non-null      float64\n",
      " 13  contrastivity : adversarial_attack_similarity : top_k_intersection     2 non-null      float64\n",
      " 14  contrastivity : adversarial_attack_similarity : structural_similarity  2 non-null      float64\n",
      " 15  compactness : threshold_score                                          2 non-null      float64\n",
      "dtypes: float64(16)\n",
      "memory usage: 1.3+ KB\n",
      "EuroSATRGB_ConvNeXtSmall\n",
      "<class 'pandas.core.frame.DataFrame'>\n",
      "Index: 10 entries, AnnualCrop to SeaLake\n",
      "Data columns (total 16 columns):\n",
      " #   Column                                                                 Non-Null Count  Dtype  \n",
      "---  ------                                                                 --------------  -----  \n",
      " 0   correctness : randomised_model_similarity : l2_distance                1 non-null      float64\n",
      " 1   correctness : randomised_model_similarity : spearman_rank              1 non-null      float64\n",
      " 2   correctness : randomised_model_similarity : top_k_intersection         1 non-null      float64\n",
      " 3   correctness : randomised_model_similarity : structural_similarity      1 non-null      float64\n",
      " 4   correctness : incremental_deletion_auc_ratio                           1 non-null      float64\n",
      " 5   output_completeness : deletion_check_conf_drop                         1 non-null      float64\n",
      " 6   output_completeness : preservation_check_conf_drop                     1 non-null      float64\n",
      " 7   continuity : perturbation_similarity : l2_distance                     1 non-null      float64\n",
      " 8   continuity : perturbation_similarity : spearman_rank                   1 non-null      float64\n",
      " 9   continuity : perturbation_similarity : top_k_intersection              1 non-null      float64\n",
      " 10  continuity : perturbation_similarity : structural_similarity           1 non-null      float64\n",
      " 11  contrastivity : adversarial_attack_similarity : l2_distance            1 non-null      float64\n",
      " 12  contrastivity : adversarial_attack_similarity : spearman_rank          1 non-null      float64\n",
      " 13  contrastivity : adversarial_attack_similarity : top_k_intersection     1 non-null      float64\n",
      " 14  contrastivity : adversarial_attack_similarity : structural_similarity  1 non-null      float64\n",
      " 15  compactness : threshold_score                                          1 non-null      float64\n",
      "dtypes: float64(16)\n",
      "memory usage: 1.3+ KB\n",
      "EuroSATRGB_SwinTransformerSmall\n",
      "<class 'pandas.core.frame.DataFrame'>\n",
      "Index: 10 entries, AnnualCrop to SeaLake\n",
      "Data columns (total 16 columns):\n",
      " #   Column                                                                 Non-Null Count  Dtype  \n",
      "---  ------                                                                 --------------  -----  \n",
      " 0   correctness : randomised_model_similarity : l2_distance                3 non-null      float64\n",
      " 1   correctness : randomised_model_similarity : spearman_rank              3 non-null      float64\n",
      " 2   correctness : randomised_model_similarity : top_k_intersection         3 non-null      float64\n",
      " 3   correctness : randomised_model_similarity : structural_similarity      3 non-null      float64\n",
      " 4   correctness : incremental_deletion_auc_ratio                           3 non-null      float64\n",
      " 5   output_completeness : deletion_check_conf_drop                         3 non-null      float64\n",
      " 6   output_completeness : preservation_check_conf_drop                     3 non-null      float64\n",
      " 7   continuity : perturbation_similarity : l2_distance                     3 non-null      float64\n",
      " 8   continuity : perturbation_similarity : spearman_rank                   3 non-null      float64\n",
      " 9   continuity : perturbation_similarity : top_k_intersection              3 non-null      float64\n",
      " 10  continuity : perturbation_similarity : structural_similarity           3 non-null      float64\n",
      " 11  contrastivity : adversarial_attack_similarity : l2_distance            3 non-null      float64\n",
      " 12  contrastivity : adversarial_attack_similarity : spearman_rank          3 non-null      float64\n",
      " 13  contrastivity : adversarial_attack_similarity : top_k_intersection     3 non-null      float64\n",
      " 14  contrastivity : adversarial_attack_similarity : structural_similarity  3 non-null      float64\n",
      " 15  compactness : threshold_score                                          3 non-null      float64\n",
      "dtypes: float64(16)\n",
      "memory usage: 1.3+ KB\n",
      "PatternNet_SwinTransformerSmall\n",
      "<class 'pandas.core.frame.DataFrame'>\n",
      "Index: 38 entries, airplane to wastewater_treatment_plant\n",
      "Data columns (total 16 columns):\n",
      " #   Column                                                                 Non-Null Count  Dtype  \n",
      "---  ------                                                                 --------------  -----  \n",
      " 0   correctness : randomised_model_similarity : l2_distance                30 non-null     float64\n",
      " 1   correctness : randomised_model_similarity : spearman_rank              30 non-null     float64\n",
      " 2   correctness : randomised_model_similarity : top_k_intersection         30 non-null     float64\n",
      " 3   correctness : randomised_model_similarity : structural_similarity      30 non-null     float64\n",
      " 4   correctness : incremental_deletion_auc_ratio                           30 non-null     float64\n",
      " 5   output_completeness : deletion_check_conf_drop                         30 non-null     float64\n",
      " 6   output_completeness : preservation_check_conf_drop                     30 non-null     float64\n",
      " 7   continuity : perturbation_similarity : l2_distance                     30 non-null     float64\n",
      " 8   continuity : perturbation_similarity : spearman_rank                   30 non-null     float64\n",
      " 9   continuity : perturbation_similarity : top_k_intersection              30 non-null     float64\n",
      " 10  continuity : perturbation_similarity : structural_similarity           30 non-null     float64\n",
      " 11  contrastivity : adversarial_attack_similarity : l2_distance            30 non-null     float64\n",
      " 12  contrastivity : adversarial_attack_similarity : spearman_rank          30 non-null     float64\n",
      " 13  contrastivity : adversarial_attack_similarity : top_k_intersection     30 non-null     float64\n",
      " 14  contrastivity : adversarial_attack_similarity : structural_similarity  30 non-null     float64\n",
      " 15  compactness : threshold_score                                          30 non-null     float64\n",
      "dtypes: float64(16)\n",
      "memory usage: 5.0+ KB\n"
     ]
    }
   ],
   "execution_count": 14
  },
  {
   "metadata": {},
   "cell_type": "code",
   "outputs": [],
   "execution_count": null,
   "source": [
    "# for s in stores:\n",
    "#     for table_name in s.keys():\n",
    "#         if table_name.endswith(\"_SwinTransformerSmall\"):\n",
    "#             df = s[table_name.strip(\"/\")]\n",
    "#             for col in df.columns:\n",
    "#                 df[col] = np.nan\n",
    "#             s[table_name.strip(\"/\")] = df"
   ],
   "id": "8e49d39e49914629"
  },
  {
   "metadata": {
    "ExecuteTime": {
     "end_time": "2025-04-07T15:28:33.289517Z",
     "start_time": "2025-04-07T15:28:33.279446Z"
    }
   },
   "cell_type": "code",
   "source": [
    "for s in stores:\n",
    "    s.close()"
   ],
   "id": "a308fb08ea814f83",
   "outputs": [],
   "execution_count": 15
  },
  {
   "metadata": {},
   "cell_type": "markdown",
   "source": "## Plot evaluation results",
   "id": "4939b60cd8d9affe"
  },
  {
   "metadata": {},
   "cell_type": "code",
   "outputs": [],
   "execution_count": null,
   "source": [
    "explainer_name = \"GradCAM\"\n",
    "h5_output_name = \"evaluation_output.h5\"\n",
    "dataset_name = \"EuroSATRGB\"\n",
    "model_name = \"ConvNeXtSmall\""
   ],
   "id": "dfaaa204730b40c5"
  },
  {
   "metadata": {},
   "cell_type": "code",
   "outputs": [],
   "execution_count": null,
   "source": [
    "h5_output_path = helpers.env_var.get_project_root() / \"results\" / explainer_name / h5_output_name\n",
    "if not h5_output_path.parent.exists():\n",
    "    raise FileNotFoundError(f\"Path {h5_output_path.parent} does not exist.\")\n",
    "\n",
    "store = pd.HDFStore(str(h5_output_path))\n",
    "df_name = f\"{dataset_name}_{model_name}\"\n",
    "if df_name not in store:\n",
    "    raise KeyError(f\"Dataframe {df_name} not found in HDF5 file.\")\n",
    "df = store[df_name]"
   ],
   "id": "fcb2d61ea1d583fe"
  },
  {
   "metadata": {},
   "cell_type": "code",
   "outputs": [],
   "execution_count": null,
   "source": "df",
   "id": "aeb05f22003158c2"
  },
  {
   "metadata": {},
   "cell_type": "code",
   "outputs": [],
   "execution_count": null,
   "source": "df[\"compactness : threshold_score\"].plot(kind=\"bar\", rot=90)",
   "id": "d7654edd4875c3fb"
  },
  {
   "metadata": {},
   "cell_type": "code",
   "outputs": [],
   "execution_count": null,
   "source": "df[\"continuity : perturbation_similarity : top_k_intersection\"].plot(kind=\"bar\", rot=90)",
   "id": "7e3e0e4c1aaee9d7"
  },
  {
   "metadata": {},
   "cell_type": "code",
   "outputs": [],
   "execution_count": null,
   "source": "df[\"correctness : incremental_deletion_auc_ratio\"].plot(kind=\"bar\", rot=90)",
   "id": "c984a0d204c1f386"
  },
  {
   "metadata": {},
   "cell_type": "code",
   "outputs": [],
   "execution_count": null,
   "source": "store.close()",
   "id": "c4ae9e344cfa2f6e"
  },
  {
   "metadata": {},
   "cell_type": "code",
   "outputs": [],
   "execution_count": null,
   "source": "df",
   "id": "f965d4e680a1e575"
  },
  {
   "metadata": {},
   "cell_type": "code",
   "outputs": [],
   "execution_count": null,
   "source": [
    "store = pd.HDFStore(str(h5_output_path))\n",
    "store[df_name] = df\n",
    "store.close()"
   ],
   "id": "cd48257112ed9a96"
  },
  {
   "metadata": {},
   "cell_type": "code",
   "outputs": [],
   "execution_count": null,
   "source": "store.close()",
   "id": "b82c06e3605a7638"
  }
 ],
 "metadata": {
  "kernelspec": {
   "display_name": "Python 3",
   "language": "python",
   "name": "python3"
  },
  "language_info": {
   "codemirror_mode": {
    "name": "ipython",
    "version": 2
   },
   "file_extension": ".py",
   "mimetype": "text/x-python",
   "name": "python",
   "nbconvert_exporter": "python",
   "pygments_lexer": "ipython2",
   "version": "2.7.6"
  }
 },
 "nbformat": 4,
 "nbformat_minor": 5
}
