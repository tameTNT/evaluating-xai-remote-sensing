{
 "cells": [
  {
   "metadata": {},
   "cell_type": "markdown",
   "source": "# Evaluating GradCAM (base)",
   "id": "b16361859308932f"
  },
  {
   "metadata": {},
   "cell_type": "markdown",
   "source": "## Imports and Setup",
   "id": "3a47991d703cdcc1"
  },
  {
   "metadata": {},
   "cell_type": "code",
   "outputs": [],
   "execution_count": null,
   "source": [
    "import os\n",
    "import platform\n",
    "from pathlib import Path\n",
    "\n",
    "# for when on NCC to be able to import local packages\n",
    "os.chdir(os.path.expanduser(\"~/l3_project\"))\n",
    "Path.cwd()"
   ],
   "id": "b367cd5ca7e79e39"
  },
  {
   "metadata": {},
   "cell_type": "code",
   "outputs": [],
   "execution_count": null,
   "source": [
    "import importlib\n",
    "\n",
    "import helpers\n",
    "import dataset_processing.eurosat\n",
    "\n",
    "# to reload local module changes without kernel restart\n",
    "importlib.reload(helpers.plotting)"
   ],
   "id": "b3a3d0234a534125"
  },
  {
   "metadata": {},
   "cell_type": "code",
   "outputs": [],
   "execution_count": null,
   "source": [
    "import copy\n",
    "\n",
    "from pytorch_grad_cam import GradCAM\n",
    "from pytorch_grad_cam.utils.model_targets import ClassifierOutputTarget\n",
    "\n",
    "import numpy as np\n",
    "import matplotlib.pyplot as plt\n",
    "import einops\n",
    "\n",
    "import torch\n",
    "import torch.nn as nn\n",
    "\n",
    "from safetensors.torch import load_model"
   ],
   "id": "5d633841dce594d2"
  },
  {
   "metadata": {},
   "cell_type": "code",
   "outputs": [],
   "execution_count": null,
   "source": [
    "print(f'Using PyTorch {torch.__version__} on {platform.system()}')\n",
    "\n",
    "if torch.cuda.is_available():\n",
    "    device = torch.device('cuda')\n",
    "    print(f'Found {torch.cuda.get_device_name()} to use as a cuda device.')\n",
    "elif platform.system() == 'Darwin':\n",
    "    device = torch.device('mps')\n",
    "else:\n",
    "    device = torch.device('cpu')\n",
    "print(f'Using {device} as torch device.')\n",
    "\n",
    "if platform.system() != 'Linux':\n",
    "    torch.set_num_threads(1)  # significantly speeds up data loading processes with less loading overhead\n",
    "    # see https://discuss.pytorch.org/t/pytorch-v2-high-cpu-consumption/205990 and https://discuss.pytorch.org/t/cpu-usage-far-too-high-and-training-inefficient/57228\n",
    "    print('Set number of threads to 1 as using a non-Linux machine.')"
   ],
   "id": "49ac146c3cbc62bb"
  },
  {
   "metadata": {},
   "cell_type": "code",
   "outputs": [],
   "execution_count": null,
   "source": [
    "np_rng = np.random.default_rng(42)\n",
    "_ = torch.manual_seed(42)"
   ],
   "id": "d346fe2fb17b032d"
  },
  {
   "metadata": {},
   "cell_type": "markdown",
   "source": "# EuroSAT (RGB) Dataset",
   "id": "b7706ccd76a4ec0d"
  },
  {
   "metadata": {},
   "cell_type": "code",
   "outputs": [],
   "execution_count": null,
   "source": [
    "eurosat_val_ds = dataset_processing.eurosat.get_standard_rgb(\"val\")\n",
    "\n",
    "num_eurosat_classes = len(eurosat_val_ds.classes)\n",
    "\n",
    "print(f\"There are {len(eurosat_val_ds)} validation samples.\")\n",
    "print(\"Image dimensions and label:\", eurosat_val_ds[0][\"image\"].size(), eurosat_val_ds[0][\"label\"])"
   ],
   "id": "18c24af223856f1f"
  },
  {
   "metadata": {},
   "cell_type": "code",
   "outputs": [],
   "execution_count": null,
   "source": [
    "val_dataloader = torch.utils.data.DataLoader(\n",
    "    eurosat_val_ds, batch_size=32, num_workers=4, shuffle=False, drop_last=False\n",
    ")\n",
    "validation_iterator = iter(dataset_processing.core.cycle(val_dataloader))"
   ],
   "id": "5cf63fac8dd32e12"
  },
  {
   "metadata": {},
   "cell_type": "markdown",
   "source": "## ResNet 50",
   "id": "ed40896cb9b3f94"
  },
  {
   "metadata": {},
   "cell_type": "markdown",
   "source": "### Load Model",
   "id": "b8a24829049b8e75"
  },
  {
   "metadata": {},
   "cell_type": "code",
   "outputs": [],
   "execution_count": null,
   "source": [
    "checkpoints_path = Path.cwd() / 'checkpoints'\n",
    "assert checkpoints_path.exists()"
   ],
   "id": "a3148d4f4eeb1696"
  },
  {
   "metadata": {},
   "cell_type": "code",
   "outputs": [],
   "execution_count": null,
   "source": [
    "all_resnet50_saved = list(checkpoints_path.glob('./resnet50/*.st'))\n",
    "# print(all_resnet50_saved)\n",
    "latest_resnet50_path = max(all_resnet50_saved, key=os.path.getctime)\n",
    "latest_resnet50_path"
   ],
   "id": "11c079ef93be98a6"
  },
  {
   "metadata": {},
   "cell_type": "code",
   "outputs": [],
   "execution_count": null,
   "source": "resnet50 = helpers.models.FineTunedResNet50(num_classes=num_eurosat_classes).to(device)",
   "id": "4d3702f57e9ffd9f"
  },
  {
   "metadata": {},
   "cell_type": "code",
   "outputs": [],
   "execution_count": null,
   "source": [
    "print('Missing/Unexpected keys:', load_model(resnet50, latest_resnet50_path))\n",
    "_ = resnet50.eval()"
   ],
   "id": "136dfd6a943f2a89"
  },
  {
   "metadata": {},
   "cell_type": "markdown",
   "source": "#### Confirm model accuracy",
   "id": "80899f89199bb726"
  },
  {
   "metadata": {},
   "cell_type": "code",
   "outputs": [],
   "execution_count": null,
   "source": [
    "check_acc = False\n",
    "if check_acc:\n",
    "    _, acc = helpers.ml.validation_step(\n",
    "        resnet50, nn.CrossEntropyLoss(), validation_iterator, len(val_dataloader)\n",
    "    )\n",
    "    assert acc > 0.98\n",
    "    print(\"Validation accuracy\", acc)"
   ],
   "id": "7bed1684029b6215"
  },
  {
   "metadata": {},
   "cell_type": "markdown",
   "source": "### Select images to explain",
   "id": "60015221a43c659a"
  },
  {
   "metadata": {},
   "cell_type": "code",
   "outputs": [],
   "execution_count": null,
   "source": [
    "idxs_to_explain = np_rng.integers(0, len(eurosat_val_ds), 5)\n",
    "imgs_to_explain = torch.stack([eurosat_val_ds[i][\"image\"] for i in idxs_to_explain]).to(device)\n",
    "true_labels = [eurosat_val_ds[i][\"label\"] for i in idxs_to_explain]\n",
    "helpers.plotting.show_image(\n",
    "    einops.rearrange(imgs_to_explain, \"(b1 b2) c h w -> c (b1 h) (b2 w)\", b2=len(idxs_to_explain)))"
   ],
   "id": "af8ddd7b917921be"
  },
  {
   "metadata": {},
   "cell_type": "code",
   "outputs": [],
   "execution_count": null,
   "source": [
    "preds = resnet50(imgs_to_explain)\n",
    "preds = torch.softmax(preds, dim=-1).cpu().detach().numpy()\n",
    "_, axs = plt.subplots(1, len(idxs_to_explain), figsize=(2 * len(idxs_to_explain), 2))\n",
    "for i in range(len(idxs_to_explain)):\n",
    "    ax: plt.Axes = axs[i]\n",
    "    ax.bar(eurosat_val_ds.classes, preds[i])\n",
    "    # rotate x ticks for axis\n",
    "    ax.tick_params(axis='x', rotation=90)\n",
    "print(true_labels)"
   ],
   "id": "3208af4f136aa723"
  },
  {
   "metadata": {},
   "cell_type": "markdown",
   "source": "### Set up/Experiment with GradCAM",
   "id": "7508f57d167c4066"
  },
  {
   "metadata": {},
   "cell_type": "code",
   "outputs": [],
   "execution_count": null,
   "source": [
    "# target the last layer of the model before avg and fc\n",
    "gradcam_explainer = GradCAM(resnet50, target_layers=[resnet50.model.layer4[-1]])"
   ],
   "id": "146c20fcfd381fea"
  },
  {
   "metadata": {},
   "cell_type": "code",
   "outputs": [],
   "execution_count": null,
   "source": [
    "cam_output = gradcam_explainer(\n",
    "    input_tensor=imgs_to_explain,\n",
    "    aug_smooth=False, eigen_smooth=False,\n",
    "    targets=None\n",
    ")"
   ],
   "id": "a3f5aecf87719e67"
  },
  {
   "metadata": {},
   "cell_type": "code",
   "outputs": [],
   "execution_count": null,
   "source": "ranked_cam = helpers.evaluate_xai.rank_pixel_importance(cam_output[:, :, :, np.newaxis])  # add fake colour channel",
   "id": "377656f320013343"
  },
  {
   "metadata": {},
   "cell_type": "code",
   "outputs": [],
   "execution_count": null,
   "source": [
    "i = 4\n",
    "true_label_text = eurosat_val_ds.classes[int(true_labels[i])]\n",
    "# plt.matshow(cam_output[i], cmap=\"jet\")\n",
    "# plt.show()\n",
    "# plt.matshow(ranked_cam[i], cmap=\"jet_r\")\n",
    "# plt.show()\n",
    "helpers.plotting.visualise_importance(imgs_to_explain[i], ranked_cam[i])"
   ],
   "id": "635c7daece4510e6"
  },
  {
   "metadata": {},
   "cell_type": "code",
   "outputs": [],
   "execution_count": null,
   "source": [
    "helpers.plotting.show_image(imgs_to_explain[i])\n",
    "plt.imshow(cam_output[i], cmap=\"jet\", alpha=0.2)\n",
    "plt.show()"
   ],
   "id": "25918f55fe9a8770"
  },
  {
   "metadata": {},
   "cell_type": "markdown",
   "source": "### Model Parameter Randomisation",
   "id": "7560b0cc99f357ea"
  },
  {
   "metadata": {},
   "cell_type": "code",
   "outputs": [],
   "execution_count": null,
   "source": [
    "randomised_model = copy.deepcopy(resnet50).to(device)\n",
    "helpers.evaluate_xai.reset_child_params(randomised_model)\n",
    "_ = randomised_model.eval()"
   ],
   "id": "b448b4b3122e795f"
  },
  {
   "metadata": {},
   "cell_type": "code",
   "outputs": [],
   "execution_count": null,
   "source": [
    "# target the last layer of the model before avg and fc\n",
    "gradcam_random_explainer = GradCAM(randomised_model, target_layers=[randomised_model.model.layer4[-1]])\n",
    "cam_random_output = gradcam_random_explainer(\n",
    "    input_tensor=imgs_to_explain,\n",
    "    aug_smooth=False, eigen_smooth=False,\n",
    "    targets=[ClassifierOutputTarget(int(true_labels[i]))]  # since the randomised model isn't going to be accurate\n",
    ")\n",
    "ranked_random_cam = helpers.evaluate_xai.rank_pixel_importance(\n",
    "    cam_random_output[:, :, :, np.newaxis])  # add fake colour channel\n",
    "plt.matshow(cam_random_output[i], cmap=\"jet\")\n",
    "plt.show()\n",
    "helpers.plotting.visualise_importance(imgs_to_explain[i], ranked_random_cam[i])"
   ],
   "id": "3b9466c293109a90"
  },
  {
   "metadata": {},
   "cell_type": "markdown",
   "source": "### Incremental Deletion",
   "id": "a83e265e094e6318"
  },
  {
   "metadata": {},
   "cell_type": "markdown",
   "source": "##### By importance",
   "id": "c4477aa21d507a1e"
  },
  {
   "metadata": {},
   "cell_type": "code",
   "outputs": [],
   "execution_count": null,
   "source": [
    "num_del_iterations = 30\n",
    "iterative_deletions, k_values = helpers.evaluate_xai.incrementally_delete(imgs_to_explain[i].cpu().numpy(),\n",
    "                                                                          ranked_cam[i],\n",
    "                                                                          num_del_iterations,\n",
    "                                                                          \"nn\")  # Nearest neighbour deletion as in I. Kakogeorgiou and K. Karantzalos\n",
    "iterative_deletions = np.squeeze(iterative_deletions)  # remove singleton dim (no repeats for specified importance)\n",
    "helpers.plotting.show_image(einops.rearrange(iterative_deletions[::5], \"p c h w -> c h (p w)\"))\n",
    "plt.show()"
   ],
   "id": "619685fcd92c6512"
  },
  {
   "metadata": {},
   "cell_type": "code",
   "outputs": [],
   "execution_count": null,
   "source": "df = helpers.evaluate_xai.make_preds_df(resnet50, iterative_deletions, columns=eurosat_val_ds.classes)",
   "id": "f40dcf8be498ff4"
  },
  {
   "metadata": {},
   "cell_type": "markdown",
   "source": "##### Random",
   "id": "3a5c8dd4851f289b"
  },
  {
   "metadata": {},
   "cell_type": "code",
   "outputs": [],
   "execution_count": null,
   "source": [
    "num_rand_trials = 10\n",
    "random_deletions, k_values = helpers.evaluate_xai.incrementally_delete(imgs_to_explain[i].cpu().numpy(),\n",
    "                                                                       (16, None, num_rand_trials),\n",
    "                                                                       num_del_iterations, \"nn\")"
   ],
   "id": "3533d9787d69358f"
  },
  {
   "metadata": {},
   "cell_type": "code",
   "outputs": [],
   "execution_count": null,
   "source": [
    "helpers.plotting.show_image(einops.rearrange(random_deletions[::5, 0], \"p c h w -> c h (p w)\"))\n",
    "plt.show()\n",
    "helpers.plotting.show_image(einops.rearrange(random_deletions[::5, 1], \"p c h w -> c h (p w)\"))\n",
    "plt.show()"
   ],
   "id": "5fbcc7351ea034dc"
  },
  {
   "metadata": {},
   "cell_type": "code",
   "outputs": [],
   "execution_count": null,
   "source": "flatted_random_deletions = random_deletions.reshape(-1, *random_deletions.shape[2:])  # combine iterations and trials",
   "id": "fabdb891533a2532"
  },
  {
   "metadata": {},
   "cell_type": "code",
   "outputs": [],
   "execution_count": null,
   "source": [
    "rand_df = helpers.evaluate_xai.make_preds_df(resnet50, flatted_random_deletions, columns=eurosat_val_ds.classes)\n",
    "# group every num_rand_trials rows (by giving them the same integer index) together and take the average\n",
    "rand_df = rand_df.groupby(np.arange(len(rand_df)) // num_rand_trials).mean()"
   ],
   "id": "963ab3744a786f9"
  },
  {
   "metadata": {},
   "cell_type": "code",
   "outputs": [],
   "execution_count": null,
   "source": [
    "joined_df = df.join(rand_df, lsuffix=\"_cam\", rsuffix=\"_random\")\n",
    "joined_df.plot(kind=\"line\", xlabel=\"iterations\", rot=45, xlim=(0, num_del_iterations),\n",
    "               y=[f\"{true_label_text}_cam\", f\"{true_label_text}_random\"],\n",
    "               ylabel=\"model confidence\", ylim=(0, 1),\n",
    "               grid=True,\n",
    "               title=\"Effect of deletions on confidence of correct class prediction\")"
   ],
   "id": "a7a60a4439df50c0"
  },
  {
   "metadata": {},
   "cell_type": "code",
   "outputs": [],
   "execution_count": null,
   "source": "np.trapz(df[true_label_text].to_numpy()), np.trapz(rand_df[true_label_text].to_numpy())",
   "id": "3be790755acec253"
  },
  {
   "metadata": {
    "ExecuteTime": {
     "end_time": "2025-02-19T15:36:10.763846Z",
     "start_time": "2025-02-19T15:36:10.240799Z"
    }
   },
   "cell_type": "code",
   "source": [
    "importlib.reload(helpers.plotting)\n",
    "helpers.plotting.make_deletions_plot(df, rand_df,\n",
    "                                     method_names=[\"cam\", \"random\"], plot_class=\"SeaLake\",\n",
    "                                     plt_title=\"Effect of deletions on confidence of correct class prediction\")\n",
    "helpers.plotting.make_deletions_plot(df, rand_df,\n",
    "                                     method_names=[\"cam\", \"random\"], return_aucs=True,\n",
    "                                     plt_title=\"Effect of deletions on confidence of correct class prediction\")"
   ],
   "id": "4a77d1d72f35390d",
   "outputs": [
    {
     "data": {
      "text/plain": [
       "{'cam': 2.342438, 'random': 11.12206}"
      ]
     },
     "execution_count": 125,
     "metadata": {},
     "output_type": "execute_result"
    },
    {
     "data": {
      "text/plain": [
       "<Figure size 640x480 with 1 Axes>"
      ],
      "image/png": "[encoded data removed]"
     },
     "metadata": {},
     "output_type": "display_data"
    },
    {
     "data": {
      "text/plain": [
       "<Figure size 640x480 with 1 Axes>"
      ],
      "image/png": "[encoded data removed]"
     },
     "metadata": {},
     "output_type": "display_data"
    }
   ],
   "execution_count": 125
  },
  {
   "metadata": {},
   "cell_type": "code",
   "outputs": [],
   "execution_count": null,
   "source": "",
   "id": "76a6bb757a25d436"
  }
 ],
 "metadata": {
  "kernelspec": {
   "display_name": "Python 3",
   "language": "python",
   "name": "python3"
  },
  "language_info": {
   "codemirror_mode": {
    "name": "ipython",
    "version": 2
   },
   "file_extension": ".py",
   "mimetype": "text/x-python",
   "name": "python",
   "nbconvert_exporter": "python",
   "pygments_lexer": "ipython2",
   "version": "2.7.6"
  }
 },
 "nbformat": 4,
 "nbformat_minor": 5
}
