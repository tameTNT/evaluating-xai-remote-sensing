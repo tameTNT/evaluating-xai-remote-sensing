{
 "cells": [
  {
   "metadata": {},
   "cell_type": "markdown",
   "source": "# Evaluating GradCAM (base)",
   "id": "ef5cdbe7458dde42"
  },
  {
   "metadata": {},
   "cell_type": "markdown",
   "source": "## Imports and Setup",
   "id": "8eeac8ffdb61858e"
  },
  {
   "metadata": {
    "ExecuteTime": {
     "end_time": "2025-02-18T20:56:20.600339Z",
     "start_time": "2025-02-18T20:56:20.581524Z"
    }
   },
   "cell_type": "code",
   "source": [
    "import os\n",
    "import platform\n",
    "from pathlib import Path\n",
    "\n",
    "# for when on NCC to be able to import local packages\n",
    "os.chdir(os.path.expanduser(\"~/l3_project\"))\n",
    "Path.cwd()"
   ],
   "id": "b5968a2a784b677f",
   "outputs": [
    {
     "data": {
      "text/plain": [
       "PosixPath('/home2/jgcw74/l3_project')"
      ]
     },
     "execution_count": 1,
     "metadata": {},
     "output_type": "execute_result"
    }
   ],
   "execution_count": 1
  },
  {
   "cell_type": "code",
   "id": "initial_id",
   "metadata": {
    "collapsed": true,
    "ExecuteTime": {
     "end_time": "2025-02-18T20:56:50.384619Z",
     "start_time": "2025-02-18T20:56:22.701982Z"
    }
   },
   "source": [
    "import importlib\n",
    "\n",
    "import helpers\n",
    "import dataset_processing.eurosat\n",
    "\n",
    "# to reload local module changes without kernel restart\n",
    "importlib.reload(helpers.evaluate_xai)\n",
    "importlib.reload(helpers.plotting)"
   ],
   "outputs": [
    {
     "name": "stderr",
     "output_type": "stream",
     "text": [
      "/home2/jgcw74/l3_project/helpers/ml.py:5: TqdmExperimentalWarning: Using `tqdm.autonotebook.tqdm` in notebook mode. Use `tqdm.tqdm` instead to force console mode (e.g. in jupyter console)\n",
      "  from tqdm.autonotebook import tqdm\n"
     ]
    },
    {
     "data": {
      "text/plain": [
       "<module 'helpers.plotting' from '/home2/jgcw74/l3_project/helpers/plotting.py'>"
      ]
     },
     "execution_count": 2,
     "metadata": {},
     "output_type": "execute_result"
    }
   ],
   "execution_count": 2
  },
  {
   "metadata": {
    "ExecuteTime": {
     "end_time": "2025-02-18T20:58:01.489532Z",
     "start_time": "2025-02-18T20:58:01.448552Z"
    }
   },
   "cell_type": "code",
   "source": [
    "from pytorch_grad_cam import GradCAM\n",
    "\n",
    "import numpy as np\n",
    "import matplotlib.pyplot as plt\n",
    "import einops\n",
    "\n",
    "import torch\n",
    "import torch.nn as nn\n",
    "\n",
    "from safetensors.torch import load_model"
   ],
   "id": "12ffdc41d871ec43",
   "outputs": [],
   "execution_count": 4
  },
  {
   "metadata": {
    "ExecuteTime": {
     "end_time": "2025-02-18T20:58:02.567453Z",
     "start_time": "2025-02-18T20:58:01.954177Z"
    }
   },
   "cell_type": "code",
   "source": [
    "print(f'Using PyTorch {torch.__version__} on {platform.system()}')\n",
    "\n",
    "if torch.cuda.is_available():\n",
    "    device = torch.device('cuda')\n",
    "    print(f'Found {torch.cuda.get_device_name()} to use as a cuda device.')\n",
    "elif platform.system() == 'Darwin':\n",
    "    device = torch.device('mps')\n",
    "else:\n",
    "    device = torch.device('cpu')\n",
    "print(f'Using {device} as torch device.')\n",
    "\n",
    "if platform.system() != 'Linux':\n",
    "    torch.set_num_threads(1)  # significantly speeds up data loading processes with less loading overhead\n",
    "    # see https://discuss.pytorch.org/t/pytorch-v2-high-cpu-consumption/205990 and https://discuss.pytorch.org/t/cpu-usage-far-too-high-and-training-inefficient/57228\n",
    "    print('Set number of threads to 1 as using a non-Linux machine.')"
   ],
   "id": "9db80052d8a36d78",
   "outputs": [
    {
     "name": "stdout",
     "output_type": "stream",
     "text": [
      "Using PyTorch 2.5.1 on Linux\n",
      "Found NVIDIA A100 80GB PCIe to use as a cuda device.\n",
      "Using cuda as torch device.\n"
     ]
    }
   ],
   "execution_count": 5
  },
  {
   "metadata": {
    "ExecuteTime": {
     "end_time": "2025-02-18T20:58:07.802261Z",
     "start_time": "2025-02-18T20:58:07.788203Z"
    }
   },
   "cell_type": "code",
   "source": [
    "np_rng = np.random.default_rng(42)\n",
    "_ = torch.manual_seed(42)"
   ],
   "id": "c26d8634a7502e6a",
   "outputs": [],
   "execution_count": 6
  },
  {
   "metadata": {},
   "cell_type": "markdown",
   "source": "# EuroSAT (RGB) Dataset",
   "id": "15f415fd3c03dd74"
  },
  {
   "metadata": {
    "ExecuteTime": {
     "end_time": "2025-02-17T11:28:44.864305Z",
     "start_time": "2025-02-17T11:28:44.748063Z"
    }
   },
   "cell_type": "code",
   "outputs": [
    {
     "name": "stdout",
     "output_type": "stream",
     "text": [
      "There are 5400 validation samples.\n",
      "Image dimensions and label: torch.Size([3, 224, 224]) tensor(0)\n"
     ]
    }
   ],
   "execution_count": 6,
   "source": [
    "eurosat_val_ds = dataset_processing.eurosat.get_standard_rgb(\"val\")\n",
    "\n",
    "num_eurosat_classes = len(eurosat_val_ds.classes)\n",
    "\n",
    "print(f\"There are {len(eurosat_val_ds)} validation samples.\")\n",
    "print(\"Image dimensions and label:\", eurosat_val_ds[0][\"image\"].size(), eurosat_val_ds[0][\"label\"])"
   ],
   "id": "35dac89d8036e8a"
  },
  {
   "metadata": {
    "ExecuteTime": {
     "end_time": "2025-02-17T11:28:44.915268Z",
     "start_time": "2025-02-17T11:28:44.909154Z"
    }
   },
   "cell_type": "code",
   "outputs": [],
   "execution_count": 7,
   "source": [
    "val_dataloader = torch.utils.data.DataLoader(\n",
    "    eurosat_val_ds, batch_size=32, num_workers=4, shuffle=False, drop_last=False\n",
    ")\n",
    "validation_iterator = iter(dataset_processing.core.cycle(val_dataloader))"
   ],
   "id": "d99bd85d389f113a"
  },
  {
   "metadata": {},
   "cell_type": "markdown",
   "source": "## ResNet 50",
   "id": "37c28da01a945c1a"
  },
  {
   "metadata": {},
   "cell_type": "markdown",
   "source": "### Load Model",
   "id": "d1170f16f71cbc7c"
  },
  {
   "metadata": {
    "ExecuteTime": {
     "end_time": "2025-02-17T11:28:45.051525Z",
     "start_time": "2025-02-17T11:28:45.046224Z"
    }
   },
   "cell_type": "code",
   "outputs": [],
   "execution_count": 9,
   "source": [
    "checkpoints_path = Path.cwd() / 'checkpoints'\n",
    "assert checkpoints_path.exists()"
   ],
   "id": "3303f5e5591c4021"
  },
  {
   "metadata": {
    "ExecuteTime": {
     "end_time": "2025-02-17T11:28:45.070076Z",
     "start_time": "2025-02-17T11:28:45.064317Z"
    }
   },
   "cell_type": "code",
   "outputs": [
    {
     "data": {
      "text/plain": [
       "PosixPath('/home2/jgcw74/l3_project/checkpoints/resnet50/FineTunedResNet50_final_ft_weights(0.989).st')"
      ]
     },
     "execution_count": 10,
     "metadata": {},
     "output_type": "execute_result"
    }
   ],
   "execution_count": 10,
   "source": [
    "all_resnet50_saved = list(checkpoints_path.glob('./resnet50/*.st'))\n",
    "# print(all_resnet50_saved)\n",
    "latest_resnet50_path = max(all_resnet50_saved, key=os.path.getctime)\n",
    "latest_resnet50_path"
   ],
   "id": "5e3ae8c8fa399b74"
  },
  {
   "metadata": {
    "ExecuteTime": {
     "end_time": "2025-02-17T11:28:45.871482Z",
     "start_time": "2025-02-17T11:28:45.122838Z"
    }
   },
   "cell_type": "code",
   "outputs": [],
   "execution_count": 11,
   "source": "resnet50 = helpers.models.FineTunedResNet50(num_classes=num_eurosat_classes).to(device)",
   "id": "d927cf61837c8fcd"
  },
  {
   "metadata": {
    "ExecuteTime": {
     "end_time": "2025-02-17T11:28:45.967958Z",
     "start_time": "2025-02-17T11:28:45.900933Z"
    }
   },
   "cell_type": "code",
   "outputs": [
    {
     "name": "stdout",
     "output_type": "stream",
     "text": [
      "Missing/Unexpected keys: (set(), [])\n"
     ]
    }
   ],
   "execution_count": 12,
   "source": [
    "print('Missing/Unexpected keys:', load_model(resnet50, latest_resnet50_path))\n",
    "_ = resnet50.eval()"
   ],
   "id": "9a13a67e38bf7699"
  },
  {
   "metadata": {},
   "cell_type": "markdown",
   "source": "#### Confirm model accuracy",
   "id": "cc6efc7a4e79e901"
  },
  {
   "metadata": {
    "ExecuteTime": {
     "end_time": "2025-02-17T11:29:20.511049Z",
     "start_time": "2025-02-17T11:29:20.502960Z"
    }
   },
   "cell_type": "code",
   "outputs": [],
   "execution_count": 22,
   "source": [
    "check_acc = False\n",
    "if check_acc:\n",
    "    _, acc = helpers.ml.validation_step(\n",
    "        resnet50, nn.CrossEntropyLoss(), validation_iterator, len(val_dataloader)\n",
    "    )\n",
    "    assert acc > 0.98\n",
    "    print(\"Validation accuracy\", acc)"
   ],
   "id": "b078ac3a3e10a0ea"
  },
  {
   "metadata": {},
   "cell_type": "markdown",
   "source": "### Select images to explain",
   "id": "13a3804a650449df"
  },
  {
   "metadata": {
    "ExecuteTime": {
     "end_time": "2025-02-17T11:28:46.160625Z",
     "start_time": "2025-02-17T11:28:46.001730Z"
    }
   },
   "cell_type": "code",
   "outputs": [],
   "execution_count": 13,
   "source": [
    "idxs_to_explain = np_rng.integers(0, len(eurosat_val_ds), 5)\n",
    "imgs_to_explain = torch.stack([eurosat_val_ds[i][\"image\"] for i in idxs_to_explain]).to(device)\n",
    "true_labels = [eurosat_val_ds[i][\"label\"] for i in idxs_to_explain]\n",
    "helpers.plotting.show_image(\n",
    "    einops.rearrange(imgs_to_explain, \"(b1 b2) c h w -> c (b1 h) (b2 w)\", b2=len(idxs_to_explain)))"
   ],
   "id": "be12ae5f4118c520"
  },
  {
   "metadata": {},
   "cell_type": "code",
   "outputs": [],
   "execution_count": null,
   "source": [
    "preds = resnet50(imgs_to_explain)\n",
    "preds = torch.softmax(preds, dim=-1).cpu().detach().numpy()\n",
    "_, axs = plt.subplots(1, len(idxs_to_explain), figsize=(2 * len(idxs_to_explain), 2))\n",
    "for i in range(len(idxs_to_explain)):\n",
    "    ax: plt.Axes = axs[i]\n",
    "    ax.bar(eurosat_val_ds.classes, preds[i])\n",
    "    # rotate x ticks for axis\n",
    "    ax.tick_params(axis='x', rotation=90)\n",
    "print(true_labels)"
   ],
   "id": "dda60db6b3ea5372"
  },
  {
   "metadata": {},
   "cell_type": "markdown",
   "source": "### Set up/Experiment with GradCAM",
   "id": "faff2144a81e335a"
  },
  {
   "metadata": {},
   "cell_type": "code",
   "outputs": [],
   "execution_count": null,
   "source": "GradCAM(resnet50, resnet50.layer4)",
   "id": "dacb8d7ffd3556c3"
  }
 ],
 "metadata": {
  "kernelspec": {
   "display_name": "Python 3",
   "language": "python",
   "name": "python3"
  },
  "language_info": {
   "codemirror_mode": {
    "name": "ipython",
    "version": 2
   },
   "file_extension": ".py",
   "mimetype": "text/x-python",
   "name": "python",
   "nbconvert_exporter": "python",
   "pygments_lexer": "ipython2",
   "version": "2.7.6"
  }
 },
 "nbformat": 4,
 "nbformat_minor": 5
}
