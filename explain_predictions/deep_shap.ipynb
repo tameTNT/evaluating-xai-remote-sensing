{
 "cells": [
  {
   "metadata": {},
   "cell_type": "markdown",
   "source": "# Evaluating DeepLiftSHAP",
   "id": "232150ec18744d56"
  },
  {
   "metadata": {},
   "cell_type": "markdown",
   "source": "## Imports and Setup",
   "id": "ecc4611da4caa18"
  },
  {
   "metadata": {
    "ExecuteTime": {
     "end_time": "2025-02-06T21:45:15.339012Z",
     "start_time": "2025-02-06T21:45:15.323168Z"
    }
   },
   "cell_type": "code",
   "source": [
    "import os\n",
    "import platform\n",
    "from pathlib import Path\n",
    "\n",
    "# for when on NCC to be able to import local packages\n",
    "os.chdir(os.path.expanduser(\"~/l3_project\"))\n",
    "Path.cwd()"
   ],
   "id": "1a7902038fbcf8a2",
   "outputs": [
    {
     "data": {
      "text/plain": [
       "PosixPath('/home2/jgcw74/l3_project')"
      ]
     },
     "execution_count": 1,
     "metadata": {},
     "output_type": "execute_result"
    }
   ],
   "execution_count": 1
  },
  {
   "metadata": {
    "ExecuteTime": {
     "end_time": "2025-02-06T21:45:48.383726Z",
     "start_time": "2025-02-06T21:45:15.397625Z"
    }
   },
   "cell_type": "code",
   "source": [
    "import helpers\n",
    "import dataset_processing.eurosat"
   ],
   "id": "6e019ccb8857aa97",
   "outputs": [
    {
     "name": "stderr",
     "output_type": "stream",
     "text": [
      "/home2/jgcw74/l3_project/helpers/ml.py:5: TqdmExperimentalWarning: Using `tqdm.autonotebook.tqdm` in notebook mode. Use `tqdm.tqdm` instead to force console mode (e.g. in jupyter console)\n",
      "  from tqdm.autonotebook import tqdm\n"
     ]
    }
   ],
   "execution_count": 2
  },
  {
   "cell_type": "code",
   "id": "initial_id",
   "metadata": {
    "collapsed": true,
    "ExecuteTime": {
     "end_time": "2025-02-06T21:52:13.746191Z",
     "start_time": "2025-02-06T21:52:13.736150Z"
    }
   },
   "source": [
    "from captum.attr import DeepLiftShap\n",
    "from safetensors.torch import load_model\n",
    "import torchvision.transforms.v2 as transforms\n",
    "import torch\n",
    "import numpy as np\n",
    "import matplotlib.pyplot as plt"
   ],
   "outputs": [],
   "execution_count": 14
  },
  {
   "metadata": {
    "ExecuteTime": {
     "end_time": "2025-02-06T21:45:48.797666Z",
     "start_time": "2025-02-06T21:45:48.676708Z"
    }
   },
   "cell_type": "code",
   "source": [
    "print(f'Using PyTorch {torch.__version__} on {platform.system()}')\n",
    "\n",
    "if torch.cuda.is_available():\n",
    "    device = torch.device('cuda')\n",
    "    print(f'Found {torch.cuda.get_device_name()} to use as a cuda device.')\n",
    "elif platform.system() == 'Darwin':\n",
    "    device = torch.device('mps')\n",
    "else:\n",
    "    device = torch.device('cpu')\n",
    "print(f'Using {device} as torch device.')\n",
    "\n",
    "if platform.system() != 'Linux':\n",
    "    torch.set_num_threads(1)  # significantly speeds up data loading processes with less loading overhead\n",
    "    # see https://discuss.pytorch.org/t/pytorch-v2-high-cpu-consumption/205990 and https://discuss.pytorch.org/t/cpu-usage-far-too-high-and-training-inefficient/57228\n",
    "    print('Set number of threads to 1 as using a non-Linux machine.')"
   ],
   "id": "12eea29e80baff25",
   "outputs": [
    {
     "name": "stdout",
     "output_type": "stream",
     "text": [
      "Using PyTorch 2.5.1 on Linux\n",
      "Found NVIDIA A100 80GB PCIe MIG 1g.10gb to use as a cuda device.\n",
      "Using cuda as torch device.\n"
     ]
    }
   ],
   "execution_count": 4
  },
  {
   "metadata": {
    "ExecuteTime": {
     "end_time": "2025-02-06T21:45:48.845672Z",
     "start_time": "2025-02-06T21:45:48.827476Z"
    }
   },
   "cell_type": "code",
   "source": [
    "np_rng = np.random.default_rng(42)\n",
    "_ = torch.manual_seed(42)"
   ],
   "id": "133885123ef34045",
   "outputs": [],
   "execution_count": 5
  },
  {
   "metadata": {},
   "cell_type": "markdown",
   "source": "# EuroSAT (RGB) Dataset",
   "id": "98c8e66edb2cbff1"
  },
  {
   "metadata": {
    "ExecuteTime": {
     "end_time": "2025-02-06T21:45:51.653924Z",
     "start_time": "2025-02-06T21:45:48.904311Z"
    }
   },
   "cell_type": "code",
   "source": [
    "base_transforms = transforms.Compose([\n",
    "    transforms.ToImage(),\n",
    "    transforms.ToDtype(torch.float32, scale=False),  # scaling handles by normalise below\n",
    "    dataset_processing.core.RSNormaliseTransform(0, 2750),\n",
    "    # normalise to [0, 1] (based on maximums used in original paper)\n",
    "    transforms.Normalize(mean=[0.5, 0.5, 0.5], std=[0.5, 0.5, 0.5], inplace=True),  # shift to mean 0 and std 1\n",
    "\n",
    "    # scale as expected by ResNet (see https://pytorch.org/vision/stable/models/generated/torchvision.models.resnet50.html#torchvision.models.ResNet50_Weights)\n",
    "    # transforms.Normalize(mean=[0.485, 0.456, 0.406], std=[0.229, 0.224, 0.225]),\n",
    "\n",
    "    transforms.Resize(224, interpolation=transforms.InterpolationMode.BILINEAR),\n",
    "])\n",
    "wrapped_base_transforms = dataset_processing.core.tensor_dict_transform_wrapper(base_transforms)\n",
    "\n",
    "eurosat_val_ds = dataset_processing.eurosat.get_dataset(\n",
    "    \"val\", bands=(\"B04\", \"B03\", \"B02\"),  # RGB bands\n",
    "    transforms=wrapped_base_transforms, download=False\n",
    ")\n",
    "\n",
    "print(f\"There are {len(eurosat_val_ds)} validation samples.\")\n",
    "print(\"Image dimensions and label:\", eurosat_val_ds[0][\"image\"].size(), eurosat_val_ds[0][\"label\"])"
   ],
   "id": "ced85671557e5d7f",
   "outputs": [
    {
     "name": "stdout",
     "output_type": "stream",
     "text": [
      "There are 5400 validation samples.\n",
      "Image dimensions and label: torch.Size([3, 224, 224]) tensor(0)\n"
     ]
    }
   ],
   "execution_count": 6
  },
  {
   "metadata": {
    "ExecuteTime": {
     "end_time": "2025-02-06T21:45:51.710752Z",
     "start_time": "2025-02-06T21:45:51.689757Z"
    }
   },
   "cell_type": "code",
   "source": [
    "val_dataloader = torch.utils.data.DataLoader(\n",
    "    eurosat_val_ds, batch_size=32, num_workers=4, shuffle=False, drop_last=False\n",
    ")\n",
    "validation_iterator = iter(dataset_processing.core.cycle(val_dataloader))"
   ],
   "id": "9b491311d798fdb3",
   "outputs": [],
   "execution_count": 7
  },
  {
   "metadata": {
    "ExecuteTime": {
     "end_time": "2025-02-06T22:01:41.504345Z",
     "start_time": "2025-02-06T22:01:41.497428Z"
    }
   },
   "cell_type": "code",
   "source": [
    "def show_image(img: torch.Tensor):\n",
    "    if img.min() < 0:\n",
    "        img = (img + 1) / 2  # un-normalise\n",
    "    img = np.transpose(img.cpu(), (1, 2, 0))  # move colour channel to end\n",
    "    plt.imshow(img)\n",
    "    plt.axis(\"off\")"
   ],
   "id": "7d31a4b7fc7abc19",
   "outputs": [],
   "execution_count": 36
  },
  {
   "metadata": {},
   "cell_type": "markdown",
   "source": "## ResNet 50",
   "id": "3680c0532df5aaea"
  },
  {
   "metadata": {},
   "cell_type": "markdown",
   "source": "### Load Model",
   "id": "94a8bdbc1f2c9f71"
  },
  {
   "metadata": {
    "ExecuteTime": {
     "end_time": "2025-02-06T21:45:51.793879Z",
     "start_time": "2025-02-06T21:45:51.783525Z"
    }
   },
   "cell_type": "code",
   "source": [
    "checkpoints_path = Path.cwd() / 'checkpoints'\n",
    "assert checkpoints_path.exists()"
   ],
   "id": "680bc578a81ee46",
   "outputs": [],
   "execution_count": 8
  },
  {
   "metadata": {
    "ExecuteTime": {
     "end_time": "2025-02-06T21:45:51.837825Z",
     "start_time": "2025-02-06T21:45:51.829233Z"
    }
   },
   "cell_type": "code",
   "source": [
    "all_resnet50_saved = list(checkpoints_path.glob('./resnet50/*.st'))\n",
    "print(all_resnet50_saved)\n",
    "latest_resnet50_path = max(all_resnet50_saved, key=os.path.getctime)\n",
    "latest_resnet50_path"
   ],
   "id": "28bf9f27468bae17",
   "outputs": [
    {
     "name": "stdout",
     "output_type": "stream",
     "text": [
      "[PosixPath('/home2/jgcw74/l3_project/checkpoints/resnet50/FineTunedResNet50_final_weights(0.950).st'), PosixPath('/home2/jgcw74/l3_project/checkpoints/resnet50/FineTunedResNet50_final_ft_weights(0.989).st')]\n"
     ]
    },
    {
     "data": {
      "text/plain": [
       "PosixPath('/home2/jgcw74/l3_project/checkpoints/resnet50/FineTunedResNet50_final_ft_weights(0.989).st')"
      ]
     },
     "execution_count": 9,
     "metadata": {},
     "output_type": "execute_result"
    }
   ],
   "execution_count": 9
  },
  {
   "metadata": {
    "ExecuteTime": {
     "end_time": "2025-02-06T22:09:18.772076Z",
     "start_time": "2025-02-06T22:09:18.150006Z"
    }
   },
   "cell_type": "code",
   "source": "resnet50 = helpers.models.FineTunedResNet50(num_classes=len(eurosat_val_ds.classes)).to(device)",
   "id": "d766c8dee2ac2bb4",
   "outputs": [],
   "execution_count": 47
  },
  {
   "metadata": {
    "ExecuteTime": {
     "end_time": "2025-02-06T22:09:19.822393Z",
     "start_time": "2025-02-06T22:09:19.749804Z"
    }
   },
   "cell_type": "code",
   "source": "print('Missing/Unexpected keys:', load_model(resnet50, latest_resnet50_path, strict=True, device=device.type))",
   "id": "e553caa9da06a5f3",
   "outputs": [
    {
     "name": "stdout",
     "output_type": "stream",
     "text": [
      "Missing/Unexpected keys: (set(), [])\n"
     ]
    }
   ],
   "execution_count": 48
  },
  {
   "metadata": {},
   "cell_type": "markdown",
   "source": "### Run SHAP",
   "id": "5c8abcd080a408dc"
  },
  {
   "metadata": {
    "ExecuteTime": {
     "end_time": "2025-02-06T22:09:21.036830Z",
     "start_time": "2025-02-06T22:09:21.030039Z"
    }
   },
   "cell_type": "code",
   "source": "deep_shap_explainer = DeepLiftShap(resnet50, multiply_by_inputs=True)  # global attribution",
   "id": "ac3af294c943b5e",
   "outputs": [],
   "execution_count": 49
  },
  {
   "metadata": {
    "ExecuteTime": {
     "end_time": "2025-02-06T22:09:21.808104Z",
     "start_time": "2025-02-06T22:09:21.686002Z"
    }
   },
   "cell_type": "code",
   "source": [
    "img_to_explain = eurosat_val_ds[1][\"image\"].to(device)\n",
    "blurred_img = transforms.functional.gaussian_blur_image(img_to_explain, kernel_size=15, sigma=10)\n",
    "black_img = torch.zeros_like(img_to_explain) - 1\n",
    "show_image(torch.column_stack([img_to_explain, blurred_img, black_img]))"
   ],
   "id": "c9eda0f614c8278e",
   "outputs": [
    {
     "data": {
      "text/plain": [
       "<Figure size 640x480 with 1 Axes>"
      ],
      "image/png": "[encoded data removed]"
     },
     "metadata": {},
     "output_type": "display_data"
    }
   ],
   "execution_count": 50
  },
  {
   "metadata": {
    "ExecuteTime": {
     "end_time": "2025-02-06T22:09:25.374187Z",
     "start_time": "2025-02-06T22:09:22.539900Z"
    }
   },
   "cell_type": "code",
   "source": [
    "shap_vals = deep_shap_explainer.attribute(img_to_explain.unsqueeze(0), blurred_img.unsqueeze(0).repeat(5, 1, 1, 1),\n",
    "                                          target=torch.tensor(0).to(device))"
   ],
   "id": "dcae8938cb0edeb5",
   "outputs": [
    {
     "name": "stderr",
     "output_type": "stream",
     "text": [
      "/home2/jgcw74/miniconda3/envs/sat_project/lib/python3.9/site-packages/captum/attr/_core/deep_lift.py:304: UserWarning: Setting forward, backward hooks and attributes on non-linear\n",
      "               activations. The hooks and attributes will be removed\n",
      "            after the attribution is finished\n",
      "  warnings.warn(\n"
     ]
    },
    {
     "ename": "RuntimeError",
     "evalue": "A Module ReLU(inplace=True) was detected that does not contain some of the input/output attributes that are required for DeepLift computations. This can occur, for example, if your module is being used more than once in the network.Please, ensure that module is being used only once in the network.",
     "output_type": "error",
     "traceback": [
      "\u001B[0;31m---------------------------------------------------------------------------\u001B[0m",
      "\u001B[0;31mRuntimeError\u001B[0m                              Traceback (most recent call last)",
      "Cell \u001B[0;32mIn[51], line 1\u001B[0m\n\u001B[0;32m----> 1\u001B[0m shap_vals \u001B[38;5;241m=\u001B[39m \u001B[43mdeep_shap_explainer\u001B[49m\u001B[38;5;241;43m.\u001B[39;49m\u001B[43mattribute\u001B[49m\u001B[43m(\u001B[49m\u001B[43mimg_to_explain\u001B[49m\u001B[38;5;241;43m.\u001B[39;49m\u001B[43munsqueeze\u001B[49m\u001B[43m(\u001B[49m\u001B[38;5;241;43m0\u001B[39;49m\u001B[43m)\u001B[49m\u001B[43m,\u001B[49m\u001B[43m \u001B[49m\u001B[43mblurred_img\u001B[49m\u001B[38;5;241;43m.\u001B[39;49m\u001B[43munsqueeze\u001B[49m\u001B[43m(\u001B[49m\u001B[38;5;241;43m0\u001B[39;49m\u001B[43m)\u001B[49m\u001B[38;5;241;43m.\u001B[39;49m\u001B[43mrepeat\u001B[49m\u001B[43m(\u001B[49m\u001B[38;5;241;43m5\u001B[39;49m\u001B[43m,\u001B[49m\u001B[38;5;241;43m1\u001B[39;49m\u001B[43m,\u001B[49m\u001B[38;5;241;43m1\u001B[39;49m\u001B[43m,\u001B[49m\u001B[38;5;241;43m1\u001B[39;49m\u001B[43m)\u001B[49m\u001B[43m,\u001B[49m\u001B[43m \u001B[49m\u001B[43mtarget\u001B[49m\u001B[38;5;241;43m=\u001B[39;49m\u001B[43mtorch\u001B[49m\u001B[38;5;241;43m.\u001B[39;49m\u001B[43mtensor\u001B[49m\u001B[43m(\u001B[49m\u001B[38;5;241;43m0\u001B[39;49m\u001B[43m)\u001B[49m\u001B[38;5;241;43m.\u001B[39;49m\u001B[43mto\u001B[49m\u001B[43m(\u001B[49m\u001B[43mdevice\u001B[49m\u001B[43m)\u001B[49m\u001B[43m)\u001B[49m\n",
      "File \u001B[0;32m~/miniconda3/envs/sat_project/lib/python3.9/site-packages/captum/log/__init__.py:42\u001B[0m, in \u001B[0;36mlog_usage.<locals>._log_usage.<locals>.wrapper\u001B[0;34m(*args, **kwargs)\u001B[0m\n\u001B[1;32m     40\u001B[0m \u001B[38;5;129m@wraps\u001B[39m(func)\n\u001B[1;32m     41\u001B[0m \u001B[38;5;28;01mdef\u001B[39;00m \u001B[38;5;21mwrapper\u001B[39m(\u001B[38;5;241m*\u001B[39margs, \u001B[38;5;241m*\u001B[39m\u001B[38;5;241m*\u001B[39mkwargs):\n\u001B[0;32m---> 42\u001B[0m     \u001B[38;5;28;01mreturn\u001B[39;00m \u001B[43mfunc\u001B[49m\u001B[43m(\u001B[49m\u001B[38;5;241;43m*\u001B[39;49m\u001B[43margs\u001B[49m\u001B[43m,\u001B[49m\u001B[43m \u001B[49m\u001B[38;5;241;43m*\u001B[39;49m\u001B[38;5;241;43m*\u001B[39;49m\u001B[43mkwargs\u001B[49m\u001B[43m)\u001B[49m\n",
      "File \u001B[0;32m~/miniconda3/envs/sat_project/lib/python3.9/site-packages/captum/attr/_core/deep_lift.py:788\u001B[0m, in \u001B[0;36mDeepLiftShap.attribute\u001B[0;34m(self, inputs, baselines, target, additional_forward_args, return_convergence_delta, custom_attribution_func)\u001B[0m\n\u001B[1;32m    778\u001B[0m base_bsz \u001B[38;5;241m=\u001B[39m baselines[\u001B[38;5;241m0\u001B[39m]\u001B[38;5;241m.\u001B[39mshape[\u001B[38;5;241m0\u001B[39m]\n\u001B[1;32m    780\u001B[0m (\n\u001B[1;32m    781\u001B[0m     exp_inp,\n\u001B[1;32m    782\u001B[0m     exp_base,\n\u001B[0;32m   (...)\u001B[0m\n\u001B[1;32m    786\u001B[0m     baselines, inputs, target, additional_forward_args\n\u001B[1;32m    787\u001B[0m )\n\u001B[0;32m--> 788\u001B[0m attributions \u001B[38;5;241m=\u001B[39m \u001B[38;5;28;43msuper\u001B[39;49m\u001B[43m(\u001B[49m\u001B[43m)\u001B[49m\u001B[38;5;241;43m.\u001B[39;49m\u001B[43mattribute\u001B[49m\u001B[38;5;241;43m.\u001B[39;49m\u001B[43m__wrapped__\u001B[49m\u001B[43m(\u001B[49m\u001B[43m  \u001B[49m\u001B[38;5;66;43;03m# type: ignore\u001B[39;49;00m\n\u001B[1;32m    789\u001B[0m \u001B[43m    \u001B[49m\u001B[38;5;28;43mself\u001B[39;49m\u001B[43m,\u001B[49m\n\u001B[1;32m    790\u001B[0m \u001B[43m    \u001B[49m\u001B[43mexp_inp\u001B[49m\u001B[43m,\u001B[49m\n\u001B[1;32m    791\u001B[0m \u001B[43m    \u001B[49m\u001B[43mexp_base\u001B[49m\u001B[43m,\u001B[49m\n\u001B[1;32m    792\u001B[0m \u001B[43m    \u001B[49m\u001B[43mtarget\u001B[49m\u001B[38;5;241;43m=\u001B[39;49m\u001B[43mexp_tgt\u001B[49m\u001B[43m,\u001B[49m\n\u001B[1;32m    793\u001B[0m \u001B[43m    \u001B[49m\u001B[43madditional_forward_args\u001B[49m\u001B[38;5;241;43m=\u001B[39;49m\u001B[43mexp_addit_args\u001B[49m\u001B[43m,\u001B[49m\n\u001B[1;32m    794\u001B[0m \u001B[43m    \u001B[49m\u001B[43mreturn_convergence_delta\u001B[49m\u001B[38;5;241;43m=\u001B[39;49m\u001B[43mcast\u001B[49m\u001B[43m(\u001B[49m\n\u001B[1;32m    795\u001B[0m \u001B[43m        \u001B[49m\u001B[43mLiteral\u001B[49m\u001B[43m[\u001B[49m\u001B[38;5;28;43;01mTrue\u001B[39;49;00m\u001B[43m,\u001B[49m\u001B[43m \u001B[49m\u001B[38;5;28;43;01mFalse\u001B[39;49;00m\u001B[43m]\u001B[49m\u001B[43m,\u001B[49m\u001B[43m \u001B[49m\u001B[43mreturn_convergence_delta\u001B[49m\n\u001B[1;32m    796\u001B[0m \u001B[43m    \u001B[49m\u001B[43m)\u001B[49m\u001B[43m,\u001B[49m\n\u001B[1;32m    797\u001B[0m \u001B[43m    \u001B[49m\u001B[43mcustom_attribution_func\u001B[49m\u001B[38;5;241;43m=\u001B[39;49m\u001B[43mcustom_attribution_func\u001B[49m\u001B[43m,\u001B[49m\n\u001B[1;32m    798\u001B[0m \u001B[43m\u001B[49m\u001B[43m)\u001B[49m\n\u001B[1;32m    799\u001B[0m \u001B[38;5;28;01mif\u001B[39;00m return_convergence_delta:\n\u001B[1;32m    800\u001B[0m     attributions, delta \u001B[38;5;241m=\u001B[39m cast(Tuple[Tuple[Tensor, \u001B[38;5;241m.\u001B[39m\u001B[38;5;241m.\u001B[39m\u001B[38;5;241m.\u001B[39m], Tensor], attributions)\n",
      "File \u001B[0;32m~/miniconda3/envs/sat_project/lib/python3.9/site-packages/captum/attr/_core/deep_lift.py:330\u001B[0m, in \u001B[0;36mDeepLift.attribute\u001B[0;34m(self, inputs, baselines, target, additional_forward_args, return_convergence_delta, custom_attribution_func)\u001B[0m\n\u001B[1;32m    320\u001B[0m expanded_target \u001B[38;5;241m=\u001B[39m _expand_target(\n\u001B[1;32m    321\u001B[0m     target, \u001B[38;5;241m2\u001B[39m, expansion_type\u001B[38;5;241m=\u001B[39mExpansionTypes\u001B[38;5;241m.\u001B[39mrepeat\n\u001B[1;32m    322\u001B[0m )\n\u001B[1;32m    324\u001B[0m wrapped_forward_func \u001B[38;5;241m=\u001B[39m \u001B[38;5;28mself\u001B[39m\u001B[38;5;241m.\u001B[39m_construct_forward_func(\n\u001B[1;32m    325\u001B[0m     \u001B[38;5;28mself\u001B[39m\u001B[38;5;241m.\u001B[39mmodel,\n\u001B[1;32m    326\u001B[0m     (inputs, baselines),\n\u001B[1;32m    327\u001B[0m     expanded_target,\n\u001B[1;32m    328\u001B[0m     additional_forward_args,\n\u001B[1;32m    329\u001B[0m )\n\u001B[0;32m--> 330\u001B[0m gradients \u001B[38;5;241m=\u001B[39m \u001B[38;5;28;43mself\u001B[39;49m\u001B[38;5;241;43m.\u001B[39;49m\u001B[43mgradient_func\u001B[49m\u001B[43m(\u001B[49m\u001B[43mwrapped_forward_func\u001B[49m\u001B[43m,\u001B[49m\u001B[43m \u001B[49m\u001B[43minputs\u001B[49m\u001B[43m)\u001B[49m\n\u001B[1;32m    331\u001B[0m \u001B[38;5;28;01mif\u001B[39;00m custom_attribution_func \u001B[38;5;129;01mis\u001B[39;00m \u001B[38;5;28;01mNone\u001B[39;00m:\n\u001B[1;32m    332\u001B[0m     \u001B[38;5;28;01mif\u001B[39;00m \u001B[38;5;28mself\u001B[39m\u001B[38;5;241m.\u001B[39mmultiplies_by_inputs:\n",
      "File \u001B[0;32m~/miniconda3/envs/sat_project/lib/python3.9/site-packages/captum/_utils/gradient.py:119\u001B[0m, in \u001B[0;36mcompute_gradients\u001B[0;34m(forward_fn, inputs, target_ind, additional_forward_args)\u001B[0m\n\u001B[1;32m    113\u001B[0m     \u001B[38;5;28;01massert\u001B[39;00m outputs[\u001B[38;5;241m0\u001B[39m]\u001B[38;5;241m.\u001B[39mnumel() \u001B[38;5;241m==\u001B[39m \u001B[38;5;241m1\u001B[39m, (\n\u001B[1;32m    114\u001B[0m         \u001B[38;5;124m\"\u001B[39m\u001B[38;5;124mTarget not provided when necessary, cannot\u001B[39m\u001B[38;5;124m\"\u001B[39m\n\u001B[1;32m    115\u001B[0m         \u001B[38;5;124m\"\u001B[39m\u001B[38;5;124m take gradient with respect to multiple outputs.\u001B[39m\u001B[38;5;124m\"\u001B[39m\n\u001B[1;32m    116\u001B[0m     )\n\u001B[1;32m    117\u001B[0m     \u001B[38;5;66;03m# torch.unbind(forward_out) is a list of scalar tensor tuples and\u001B[39;00m\n\u001B[1;32m    118\u001B[0m     \u001B[38;5;66;03m# contains batch_size * #steps elements\u001B[39;00m\n\u001B[0;32m--> 119\u001B[0m     grads \u001B[38;5;241m=\u001B[39m \u001B[43mtorch\u001B[49m\u001B[38;5;241;43m.\u001B[39;49m\u001B[43mautograd\u001B[49m\u001B[38;5;241;43m.\u001B[39;49m\u001B[43mgrad\u001B[49m\u001B[43m(\u001B[49m\u001B[43mtorch\u001B[49m\u001B[38;5;241;43m.\u001B[39;49m\u001B[43munbind\u001B[49m\u001B[43m(\u001B[49m\u001B[43moutputs\u001B[49m\u001B[43m)\u001B[49m\u001B[43m,\u001B[49m\u001B[43m \u001B[49m\u001B[43minputs\u001B[49m\u001B[43m)\u001B[49m\n\u001B[1;32m    120\u001B[0m \u001B[38;5;28;01mreturn\u001B[39;00m grads\n",
      "File \u001B[0;32m~/miniconda3/envs/sat_project/lib/python3.9/site-packages/torch/autograd/__init__.py:496\u001B[0m, in \u001B[0;36mgrad\u001B[0;34m(outputs, inputs, grad_outputs, retain_graph, create_graph, only_inputs, allow_unused, is_grads_batched, materialize_grads)\u001B[0m\n\u001B[1;32m    492\u001B[0m     result \u001B[38;5;241m=\u001B[39m _vmap_internals\u001B[38;5;241m.\u001B[39m_vmap(vjp, \u001B[38;5;241m0\u001B[39m, \u001B[38;5;241m0\u001B[39m, allow_none_pass_through\u001B[38;5;241m=\u001B[39m\u001B[38;5;28;01mTrue\u001B[39;00m)(\n\u001B[1;32m    493\u001B[0m         grad_outputs_\n\u001B[1;32m    494\u001B[0m     )\n\u001B[1;32m    495\u001B[0m \u001B[38;5;28;01melse\u001B[39;00m:\n\u001B[0;32m--> 496\u001B[0m     result \u001B[38;5;241m=\u001B[39m \u001B[43m_engine_run_backward\u001B[49m\u001B[43m(\u001B[49m\n\u001B[1;32m    497\u001B[0m \u001B[43m        \u001B[49m\u001B[43moutputs\u001B[49m\u001B[43m,\u001B[49m\n\u001B[1;32m    498\u001B[0m \u001B[43m        \u001B[49m\u001B[43mgrad_outputs_\u001B[49m\u001B[43m,\u001B[49m\n\u001B[1;32m    499\u001B[0m \u001B[43m        \u001B[49m\u001B[43mretain_graph\u001B[49m\u001B[43m,\u001B[49m\n\u001B[1;32m    500\u001B[0m \u001B[43m        \u001B[49m\u001B[43mcreate_graph\u001B[49m\u001B[43m,\u001B[49m\n\u001B[1;32m    501\u001B[0m \u001B[43m        \u001B[49m\u001B[43minputs\u001B[49m\u001B[43m,\u001B[49m\n\u001B[1;32m    502\u001B[0m \u001B[43m        \u001B[49m\u001B[43mallow_unused\u001B[49m\u001B[43m,\u001B[49m\n\u001B[1;32m    503\u001B[0m \u001B[43m        \u001B[49m\u001B[43maccumulate_grad\u001B[49m\u001B[38;5;241;43m=\u001B[39;49m\u001B[38;5;28;43;01mFalse\u001B[39;49;00m\u001B[43m,\u001B[49m\n\u001B[1;32m    504\u001B[0m \u001B[43m    \u001B[49m\u001B[43m)\u001B[49m\n\u001B[1;32m    505\u001B[0m \u001B[38;5;28;01mif\u001B[39;00m materialize_grads:\n\u001B[1;32m    506\u001B[0m     \u001B[38;5;28;01mif\u001B[39;00m \u001B[38;5;28many\u001B[39m(\n\u001B[1;32m    507\u001B[0m         result[i] \u001B[38;5;129;01mis\u001B[39;00m \u001B[38;5;28;01mNone\u001B[39;00m \u001B[38;5;129;01mand\u001B[39;00m \u001B[38;5;129;01mnot\u001B[39;00m is_tensor_like(inputs[i])\n\u001B[1;32m    508\u001B[0m         \u001B[38;5;28;01mfor\u001B[39;00m i \u001B[38;5;129;01min\u001B[39;00m \u001B[38;5;28mrange\u001B[39m(\u001B[38;5;28mlen\u001B[39m(inputs))\n\u001B[1;32m    509\u001B[0m     ):\n",
      "File \u001B[0;32m~/miniconda3/envs/sat_project/lib/python3.9/site-packages/torch/autograd/graph.py:825\u001B[0m, in \u001B[0;36m_engine_run_backward\u001B[0;34m(t_outputs, *args, **kwargs)\u001B[0m\n\u001B[1;32m    823\u001B[0m     unregister_hooks \u001B[38;5;241m=\u001B[39m _register_logging_hooks_on_whole_graph(t_outputs)\n\u001B[1;32m    824\u001B[0m \u001B[38;5;28;01mtry\u001B[39;00m:\n\u001B[0;32m--> 825\u001B[0m     \u001B[38;5;28;01mreturn\u001B[39;00m \u001B[43mVariable\u001B[49m\u001B[38;5;241;43m.\u001B[39;49m\u001B[43m_execution_engine\u001B[49m\u001B[38;5;241;43m.\u001B[39;49m\u001B[43mrun_backward\u001B[49m\u001B[43m(\u001B[49m\u001B[43m  \u001B[49m\u001B[38;5;66;43;03m# Calls into the C++ engine to run the backward pass\u001B[39;49;00m\n\u001B[1;32m    826\u001B[0m \u001B[43m        \u001B[49m\u001B[43mt_outputs\u001B[49m\u001B[43m,\u001B[49m\u001B[43m \u001B[49m\u001B[38;5;241;43m*\u001B[39;49m\u001B[43margs\u001B[49m\u001B[43m,\u001B[49m\u001B[43m \u001B[49m\u001B[38;5;241;43m*\u001B[39;49m\u001B[38;5;241;43m*\u001B[39;49m\u001B[43mkwargs\u001B[49m\n\u001B[1;32m    827\u001B[0m \u001B[43m    \u001B[49m\u001B[43m)\u001B[49m  \u001B[38;5;66;03m# Calls into the C++ engine to run the backward pass\u001B[39;00m\n\u001B[1;32m    828\u001B[0m \u001B[38;5;28;01mfinally\u001B[39;00m:\n\u001B[1;32m    829\u001B[0m     \u001B[38;5;28;01mif\u001B[39;00m attach_logging_hooks:\n",
      "File \u001B[0;32m~/miniconda3/envs/sat_project/lib/python3.9/site-packages/captum/_utils/common.py:799\u001B[0m, in \u001B[0;36m_register_backward_hook.<locals>.pre_hook.<locals>.input_tensor_hook\u001B[0;34m(input_grad)\u001B[0m\n\u001B[1;32m    797\u001B[0m \u001B[38;5;28;01mif\u001B[39;00m \u001B[38;5;28mlen\u001B[39m(grad_out) \u001B[38;5;241m==\u001B[39m \u001B[38;5;241m0\u001B[39m:\n\u001B[1;32m    798\u001B[0m     \u001B[38;5;28;01mreturn\u001B[39;00m\n\u001B[0;32m--> 799\u001B[0m hook_out \u001B[38;5;241m=\u001B[39m \u001B[43mhook\u001B[49m\u001B[43m(\u001B[49m\u001B[43mmodule\u001B[49m\u001B[43m,\u001B[49m\u001B[43m \u001B[49m\u001B[43minput_grad\u001B[49m\u001B[43m,\u001B[49m\u001B[43m \u001B[49m\u001B[43mgrad_out\u001B[49m\u001B[43m[\u001B[49m\u001B[43minput_grad\u001B[49m\u001B[38;5;241;43m.\u001B[39;49m\u001B[43mdevice\u001B[49m\u001B[43m]\u001B[49m\u001B[43m)\u001B[49m\n\u001B[1;32m    801\u001B[0m \u001B[38;5;28;01mif\u001B[39;00m hook_out \u001B[38;5;129;01mis\u001B[39;00m \u001B[38;5;129;01mnot\u001B[39;00m \u001B[38;5;28;01mNone\u001B[39;00m:\n\u001B[1;32m    802\u001B[0m     \u001B[38;5;28;01mreturn\u001B[39;00m hook_out[\u001B[38;5;241m0\u001B[39m] \u001B[38;5;28;01mif\u001B[39;00m \u001B[38;5;28misinstance\u001B[39m(hook_out, \u001B[38;5;28mtuple\u001B[39m) \u001B[38;5;28;01melse\u001B[39;00m hook_out\n",
      "File \u001B[0;32m~/miniconda3/envs/sat_project/lib/python3.9/site-packages/captum/attr/_core/deep_lift.py:434\u001B[0m, in \u001B[0;36mDeepLift._backward_hook\u001B[0;34m(self, module, grad_input, grad_output)\u001B[0m\n\u001B[1;32m    432\u001B[0m attr_criteria \u001B[38;5;241m=\u001B[39m \u001B[38;5;28mself\u001B[39m\u001B[38;5;241m.\u001B[39msatisfies_attribute_criteria(module)\n\u001B[1;32m    433\u001B[0m \u001B[38;5;28;01mif\u001B[39;00m \u001B[38;5;129;01mnot\u001B[39;00m attr_criteria:\n\u001B[0;32m--> 434\u001B[0m     \u001B[38;5;28;01mraise\u001B[39;00m \u001B[38;5;167;01mRuntimeError\u001B[39;00m(\n\u001B[1;32m    435\u001B[0m         \u001B[38;5;124m\"\u001B[39m\u001B[38;5;124mA Module \u001B[39m\u001B[38;5;132;01m{}\u001B[39;00m\u001B[38;5;124m was detected that does not contain some of \u001B[39m\u001B[38;5;124m\"\u001B[39m\n\u001B[1;32m    436\u001B[0m         \u001B[38;5;124m\"\u001B[39m\u001B[38;5;124mthe input/output attributes that are required for DeepLift \u001B[39m\u001B[38;5;124m\"\u001B[39m\n\u001B[1;32m    437\u001B[0m         \u001B[38;5;124m\"\u001B[39m\u001B[38;5;124mcomputations. This can occur, for example, if \u001B[39m\u001B[38;5;124m\"\u001B[39m\n\u001B[1;32m    438\u001B[0m         \u001B[38;5;124m\"\u001B[39m\u001B[38;5;124myour module is being used more than once in the network.\u001B[39m\u001B[38;5;124m\"\u001B[39m\n\u001B[1;32m    439\u001B[0m         \u001B[38;5;124m\"\u001B[39m\u001B[38;5;124mPlease, ensure that module is being used only once in the \u001B[39m\u001B[38;5;124m\"\u001B[39m\n\u001B[1;32m    440\u001B[0m         \u001B[38;5;124m\"\u001B[39m\u001B[38;5;124mnetwork.\u001B[39m\u001B[38;5;124m\"\u001B[39m\u001B[38;5;241m.\u001B[39mformat(module)\n\u001B[1;32m    441\u001B[0m     )\n\u001B[1;32m    443\u001B[0m multipliers \u001B[38;5;241m=\u001B[39m SUPPORTED_NON_LINEAR[\u001B[38;5;28mtype\u001B[39m(module)](\n\u001B[1;32m    444\u001B[0m     module,\n\u001B[1;32m    445\u001B[0m     module\u001B[38;5;241m.\u001B[39minput,\n\u001B[0;32m   (...)\u001B[0m\n\u001B[1;32m    449\u001B[0m     eps\u001B[38;5;241m=\u001B[39m\u001B[38;5;28mself\u001B[39m\u001B[38;5;241m.\u001B[39meps,\n\u001B[1;32m    450\u001B[0m )\n\u001B[1;32m    451\u001B[0m \u001B[38;5;66;03m# remove all the properies that we set for the inputs and output\u001B[39;00m\n",
      "\u001B[0;31mRuntimeError\u001B[0m: A Module ReLU(inplace=True) was detected that does not contain some of the input/output attributes that are required for DeepLift computations. This can occur, for example, if your module is being used more than once in the network.Please, ensure that module is being used only once in the network."
     ]
    }
   ],
   "execution_count": 51
  },
  {
   "metadata": {},
   "cell_type": "code",
   "outputs": [],
   "execution_count": null,
   "source": "",
   "id": "514fd8255c9fd419"
  }
 ],
 "metadata": {
  "kernelspec": {
   "display_name": "Python 3",
   "language": "python",
   "name": "python3"
  },
  "language_info": {
   "codemirror_mode": {
    "name": "ipython",
    "version": 2
   },
   "file_extension": ".py",
   "mimetype": "text/x-python",
   "name": "python",
   "nbconvert_exporter": "python",
   "pygments_lexer": "ipython2",
   "version": "2.7.6"
  }
 },
 "nbformat": 4,
 "nbformat_minor": 5
}
