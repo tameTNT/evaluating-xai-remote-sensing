{
 "cells": [
  {
   "metadata": {},
   "cell_type": "markdown",
   "source": "# Evaluating DeepLiftSHAP",
   "id": "232150ec18744d56"
  },
  {
   "metadata": {},
   "cell_type": "markdown",
   "source": "## Imports and Setup",
   "id": "ecc4611da4caa18"
  },
  {
   "metadata": {
    "ExecuteTime": {
     "end_time": "2025-02-05T16:47:59.354182Z",
     "start_time": "2025-02-05T16:47:59.346054Z"
    }
   },
   "cell_type": "code",
   "source": [
    "import os\n",
    "import platform\n",
    "from pathlib import Path\n",
    "\n",
    "# for when on NCC to be able to import local packages\n",
    "os.chdir(os.path.expanduser(\"~/l3_project\"))\n",
    "Path.cwd()"
   ],
   "id": "1a7902038fbcf8a2",
   "outputs": [
    {
     "data": {
      "text/plain": [
       "PosixPath('/home2/jgcw74/l3_project')"
      ]
     },
     "execution_count": 9,
     "metadata": {},
     "output_type": "execute_result"
    }
   ],
   "execution_count": 9
  },
  {
   "metadata": {
    "ExecuteTime": {
     "end_time": "2025-02-05T16:47:06.183178Z",
     "start_time": "2025-02-05T16:46:58.173450Z"
    }
   },
   "cell_type": "code",
   "source": [
    "import helpers\n",
    "import dataset_processing.eurosat"
   ],
   "id": "6e019ccb8857aa97",
   "outputs": [
    {
     "name": "stderr",
     "output_type": "stream",
     "text": [
      "/home2/jgcw74/l3_project/helpers/ml.py:5: TqdmExperimentalWarning: Using `tqdm.autonotebook.tqdm` in notebook mode. Use `tqdm.tqdm` instead to force console mode (e.g. in jupyter console)\n",
      "  from tqdm.autonotebook import tqdm\n"
     ]
    }
   ],
   "execution_count": 2
  },
  {
   "cell_type": "code",
   "id": "initial_id",
   "metadata": {
    "collapsed": true,
    "ExecuteTime": {
     "end_time": "2025-02-05T16:50:57.208351Z",
     "start_time": "2025-02-05T16:50:57.203704Z"
    }
   },
   "source": [
    "\n",
    "from safetensors.torch import load_model\n",
    "import torchvision.transforms.v2 as transforms\n",
    "import torch\n",
    "import numpy as np"
   ],
   "outputs": [],
   "execution_count": 13
  },
  {
   "metadata": {
    "ExecuteTime": {
     "end_time": "2025-02-05T16:48:01.869739Z",
     "start_time": "2025-02-05T16:48:01.715317Z"
    }
   },
   "cell_type": "code",
   "source": [
    "print(f'Using PyTorch {torch.__version__} on {platform.system()}')\n",
    "\n",
    "if torch.cuda.is_available():\n",
    "    device = torch.device('cuda')\n",
    "    print(f'Found {torch.cuda.get_device_name()} to use as a cuda device.')\n",
    "elif platform.system() == 'Darwin':\n",
    "    device = torch.device('mps')\n",
    "else:\n",
    "    device = torch.device('cpu')\n",
    "print(f'Using {device} as torch device.')\n",
    "\n",
    "if platform.system() != 'Linux':\n",
    "    torch.set_num_threads(1)  # significantly speeds up data loading processes with less loading overhead\n",
    "    # see https://discuss.pytorch.org/t/pytorch-v2-high-cpu-consumption/205990 and https://discuss.pytorch.org/t/cpu-usage-far-too-high-and-training-inefficient/57228\n",
    "    print('Set number of threads to 1 as using a non-Linux machine.')"
   ],
   "id": "12eea29e80baff25",
   "outputs": [
    {
     "name": "stdout",
     "output_type": "stream",
     "text": [
      "Using PyTorch 2.5.1 on Linux\n",
      "Found NVIDIA A100 80GB PCIe MIG 1g.10gb to use as a cuda device.\n",
      "Using cuda as torch device.\n"
     ]
    }
   ],
   "execution_count": 10
  },
  {
   "metadata": {
    "ExecuteTime": {
     "end_time": "2025-02-05T16:50:59.208840Z",
     "start_time": "2025-02-05T16:50:59.199487Z"
    }
   },
   "cell_type": "code",
   "source": [
    "np_rng = np.random.default_rng(42)\n",
    "_ = torch.manual_seed(42)"
   ],
   "id": "133885123ef34045",
   "outputs": [],
   "execution_count": 14
  },
  {
   "metadata": {},
   "cell_type": "markdown",
   "source": "# EuroSAT (RGB) Dataset",
   "id": "98c8e66edb2cbff1"
  },
  {
   "metadata": {
    "ExecuteTime": {
     "end_time": "2025-02-05T16:47:06.608417Z",
     "start_time": "2025-02-05T16:47:06.465821Z"
    }
   },
   "cell_type": "code",
   "source": [
    "base_transforms = transforms.Compose([\n",
    "    transforms.ToImage(),\n",
    "    transforms.ToDtype(torch.float32, scale=False),  # scaling handles by normalise below\n",
    "    dataset_processing.core.RSNormaliseTransform(0, 2750),\n",
    "    # normalise to [0, 1] (based on maximums used in original paper)\n",
    "    transforms.Normalize(mean=[0.5, 0.5, 0.5], std=[0.5, 0.5, 0.5], inplace=True),  # shift to mean 0 and std 1\n",
    "\n",
    "    # scale as expected by ResNet (see https://pytorch.org/vision/stable/models/generated/torchvision.models.resnet50.html#torchvision.models.ResNet50_Weights)\n",
    "    # transforms.Normalize(mean=[0.485, 0.456, 0.406], std=[0.229, 0.224, 0.225]),\n",
    "\n",
    "    transforms.Resize(224, interpolation=transforms.InterpolationMode.BILINEAR),\n",
    "])\n",
    "wrapped_base_transforms = dataset_processing.core.tensor_dict_transform_wrapper(base_transforms)\n",
    "\n",
    "eurosat_val_ds = dataset_processing.eurosat.get_dataset(\n",
    "    \"val\", bands=(\"B04\", \"B03\", \"B02\"),  # RGB bands\n",
    "    transforms=wrapped_base_transforms, download=False\n",
    ")\n",
    "\n",
    "print(f\"There are {len(eurosat_val_ds)} validation samples.\")\n",
    "print(\"Image dimensions and label:\", eurosat_val_ds[0][\"image\"].size(), eurosat_val_ds[0][\"label\"])"
   ],
   "id": "ced85671557e5d7f",
   "outputs": [
    {
     "name": "stdout",
     "output_type": "stream",
     "text": [
      "There are 5400 validation samples.\n",
      "Image dimensions and label: torch.Size([3, 224, 224]) tensor(0)\n"
     ]
    }
   ],
   "execution_count": 4
  },
  {
   "metadata": {
    "ExecuteTime": {
     "end_time": "2025-02-05T16:47:06.727144Z",
     "start_time": "2025-02-05T16:47:06.723279Z"
    }
   },
   "cell_type": "code",
   "source": [
    "val_dataloader = torch.utils.data.DataLoader(\n",
    "    eurosat_val_ds, batch_size=32, num_workers=4, shuffle=False, drop_last=False\n",
    ")\n",
    "validation_iterator = iter(dataset_processing.core.cycle(val_dataloader))"
   ],
   "id": "9b491311d798fdb3",
   "outputs": [],
   "execution_count": 5
  },
  {
   "metadata": {},
   "cell_type": "markdown",
   "source": "## ResNet 50",
   "id": "3680c0532df5aaea"
  },
  {
   "metadata": {},
   "cell_type": "markdown",
   "source": "### Load Model",
   "id": "94a8bdbc1f2c9f71"
  },
  {
   "metadata": {
    "ExecuteTime": {
     "end_time": "2025-02-05T21:16:23.928648Z",
     "start_time": "2025-02-05T21:16:23.922187Z"
    }
   },
   "cell_type": "code",
   "source": [
    "checkpoints_path = Path.cwd() / 'checkpoints'\n",
    "assert checkpoints_path.exists()"
   ],
   "id": "680bc578a81ee46",
   "outputs": [],
   "execution_count": 22
  },
  {
   "metadata": {
    "ExecuteTime": {
     "end_time": "2025-02-05T21:16:30.562457Z",
     "start_time": "2025-02-05T21:16:30.548307Z"
    }
   },
   "cell_type": "code",
   "source": [
    "all_resnet50_saved = list(checkpoints_path.glob('./resnet50/*.st'))\n",
    "print(all_resnet50_saved)\n",
    "latest_resnet50_path = max(all_resnet50_saved, key=os.path.getctime)\n",
    "latest_resnet50_path"
   ],
   "id": "28bf9f27468bae17",
   "outputs": [
    {
     "name": "stdout",
     "output_type": "stream",
     "text": [
      "[PosixPath('/home2/jgcw74/l3_project/checkpoints/resnet50/FineTunedResNet50_final_weights(0.950).st'), PosixPath('/home2/jgcw74/l3_project/checkpoints/resnet50/FineTunedResNet50_final_ft_weights(0.989).st')]\n"
     ]
    },
    {
     "data": {
      "text/plain": [
       "PosixPath('/home2/jgcw74/l3_project/checkpoints/resnet50/FineTunedResNet50_final_ft_weights(0.989).st')"
      ]
     },
     "execution_count": 24,
     "metadata": {},
     "output_type": "execute_result"
    }
   ],
   "execution_count": 24
  },
  {
   "metadata": {
    "ExecuteTime": {
     "end_time": "2025-02-05T21:15:38.165393Z",
     "start_time": "2025-02-05T21:15:37.682190Z"
    }
   },
   "cell_type": "code",
   "source": "resnet50 = helpers.models.FineTunedResNet50(num_classes=len(eurosat_val_ds.classes))",
   "id": "d766c8dee2ac2bb4",
   "outputs": [],
   "execution_count": 16
  },
  {
   "metadata": {
    "ExecuteTime": {
     "end_time": "2025-02-05T21:15:39.353109Z",
     "start_time": "2025-02-05T21:15:39.247416Z"
    }
   },
   "cell_type": "code",
   "source": "print('Missing/Unexpected keys:', load_model(resnet50, latest_resnet50_path, strict=True, device=device.type))",
   "id": "e553caa9da06a5f3",
   "outputs": [
    {
     "name": "stdout",
     "output_type": "stream",
     "text": [
      "Missing/Unexpected keys: (set(), [])\n"
     ]
    }
   ],
   "execution_count": 17
  },
  {
   "metadata": {},
   "cell_type": "code",
   "outputs": [],
   "execution_count": null,
   "source": "",
   "id": "ac3af294c943b5e"
  }
 ],
 "metadata": {
  "kernelspec": {
   "display_name": "Python 3",
   "language": "python",
   "name": "python3"
  },
  "language_info": {
   "codemirror_mode": {
    "name": "ipython",
    "version": 2
   },
   "file_extension": ".py",
   "mimetype": "text/x-python",
   "name": "python",
   "nbconvert_exporter": "python",
   "pygments_lexer": "ipython2",
   "version": "2.7.6"
  }
 },
 "nbformat": 4,
 "nbformat_minor": 5
}
