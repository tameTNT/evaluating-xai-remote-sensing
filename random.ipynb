{
 "cells": [
  {
   "cell_type": "code",
   "id": "initial_id",
   "metadata": {
    "collapsed": true,
    "ExecuteTime": {
     "end_time": "2024-10-20T16:16:40.957625Z",
     "start_time": "2024-10-20T16:16:40.947063Z"
    }
   },
   "source": "import datasets.eurosat_dataset",
   "outputs": [],
   "execution_count": 4
  },
  {
   "metadata": {
    "ExecuteTime": {
     "end_time": "2024-10-20T16:17:01.035218Z",
     "start_time": "2024-10-20T16:16:55.621356Z"
    }
   },
   "cell_type": "code",
   "source": [
    "ds = datasets.eurosat_dataset.get_eurosat_dataset(False)\n",
    "ds"
   ],
   "id": "3c69b6bef7c0db64",
   "outputs": [
    {
     "data": {
      "text/plain": [
       "Dataset EuroSAT\n",
       "    Number of datapoints: 16200\n",
       "    Root location: H:\\hdd_datasets\\eurosat\\ds\\images\\remote_sensing\\otherDatasets\\sentinel_2\\tif"
      ]
     },
     "execution_count": 5,
     "metadata": {},
     "output_type": "execute_result"
    }
   ],
   "execution_count": 5
  },
  {
   "metadata": {},
   "cell_type": "code",
   "outputs": [],
   "execution_count": null,
   "source": "",
   "id": "5741cf39df5937fe"
  }
 ],
 "metadata": {
  "kernelspec": {
   "display_name": "Python 3",
   "language": "python",
   "name": "python3"
  },
  "language_info": {
   "codemirror_mode": {
    "name": "ipython",
    "version": 2
   },
   "file_extension": ".py",
   "mimetype": "text/x-python",
   "name": "python",
   "nbconvert_exporter": "python",
   "pygments_lexer": "ipython2",
   "version": "2.7.6"
  }
 },
 "nbformat": 4,
 "nbformat_minor": 5
}
