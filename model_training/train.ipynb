{
 "cells": [
  {
   "metadata": {},
   "cell_type": "markdown",
   "source": "Convert to python script after running top to bottom in Jupyter without interactions.",
   "id": "77dd7517f5925b3f"
  },
  {
   "metadata": {
    "ExecuteTime": {
     "end_time": "2025-03-02T19:06:10.711959Z",
     "start_time": "2025-03-02T19:06:10.699911Z"
    }
   },
   "cell_type": "code",
   "source": [
    "import os\n",
    "\n",
    "# for when on NCC to be able to import local packages\n",
    "os.chdir(os.path.expanduser(\"~/l3_project\"))"
   ],
   "id": "348d99628124a29f",
   "outputs": [],
   "execution_count": 1
  },
  {
   "cell_type": "code",
   "id": "57d01b96a727e4ec",
   "metadata": {
    "ExecuteTime": {
     "end_time": "2025-03-02T19:06:20.440167Z",
     "start_time": "2025-03-02T19:06:10.842569Z"
    }
   },
   "source": [
    "from pathlib import Path\n",
    "import platform\n",
    "import typing as t\n",
    "\n",
    "import dataset_processing\n",
    "import helpers\n",
    "\n",
    "import numpy as np\n",
    "import torch\n",
    "import torch.nn as nn\n",
    "\n",
    "lg = helpers.logging.get_logger(\"main\")\n",
    "lg.debug(\"Successfully imported packages.\")"
   ],
   "outputs": [
    {
     "name": "stderr",
     "output_type": "stream",
     "text": [
      "/home2/jgcw74/l3_project/helpers/evaluate_xai.py:9: TqdmExperimentalWarning: Using `tqdm.autonotebook.tqdm` in notebook mode. Use `tqdm.tqdm` instead to force console mode (e.g. in jupyter console)\n",
      "  from tqdm.autonotebook import tqdm\n"
     ]
    }
   ],
   "execution_count": 2
  },
  {
   "metadata": {
    "ExecuteTime": {
     "end_time": "2025-03-02T19:06:20.534358Z",
     "start_time": "2025-03-02T19:06:20.483698Z"
    }
   },
   "cell_type": "code",
   "source": [
    "if torch.cuda.is_available():\n",
    "    torch_device = torch.device('cuda')\n",
    "    lg.debug(f'Found {torch.cuda.get_device_name()} to use as a cuda device.')\n",
    "elif platform.system() == 'Darwin':\n",
    "    torch_device = torch.device('mps')\n",
    "else:\n",
    "    torch_device = torch.device('cpu')\n",
    "lg.info(f'Using {torch_device} as torch device.')\n",
    "\n",
    "if platform.system() != 'Linux':\n",
    "    torch.set_num_threads(1)\n",
    "    lg.debug('Set number of threads to 1 as using a non-Linux machine.')"
   ],
   "id": "73aa079af9c51c39",
   "outputs": [],
   "execution_count": 3
  },
  {
   "metadata": {
    "ExecuteTime": {
     "end_time": "2025-03-02T19:06:20.608732Z",
     "start_time": "2025-03-02T19:06:20.599065Z"
    }
   },
   "cell_type": "code",
   "source": [
    "np_rng = np.random.default_rng(42)\n",
    "_ = torch.manual_seed(42)"
   ],
   "id": "f0606af0834bddb2",
   "outputs": [],
   "execution_count": 4
  },
  {
   "metadata": {
    "ExecuteTime": {
     "end_time": "2025-03-02T19:06:20.687061Z",
     "start_time": "2025-03-02T19:06:20.661124Z"
    }
   },
   "cell_type": "code",
   "source": [
    "checkpoints_path = Path.cwd() / 'checkpoints'\n",
    "checkpoints_path.mkdir(exist_ok=True)"
   ],
   "id": "596df06089e6e493",
   "outputs": [],
   "execution_count": 5
  },
  {
   "metadata": {
    "ExecuteTime": {
     "end_time": "2025-03-02T19:14:57.082502Z",
     "start_time": "2025-03-02T19:14:57.075980Z"
    }
   },
   "cell_type": "code",
   "source": "DATASET_NAMES = t.Literal[\"EuroSATRGB\", \"EuroSATMS\"]",
   "id": "5f199ccb21e0e360",
   "outputs": [],
   "execution_count": 15
  },
  {
   "metadata": {
    "ExecuteTime": {
     "end_time": "2025-03-02T19:14:57.300617Z",
     "start_time": "2025-03-02T19:14:57.291924Z"
    }
   },
   "cell_type": "code",
   "source": [
    "def get_num_classes(\n",
    "        name: DATASET_NAMES\n",
    ") -> int:\n",
    "    if name in [\"EuroSATRGB\", \"EuroSATMS\"]:\n",
    "        n = 10\n",
    "    else:\n",
    "        lg.error(f\"Invalid dataset name ({name}) provided to get_num_classes.\")\n",
    "        raise ValueError(f\"Dataset {name} does not exist.\")\n",
    "\n",
    "    return n"
   ],
   "id": "25850cfddf0460e3",
   "outputs": [],
   "execution_count": 16
  },
  {
   "metadata": {
    "ExecuteTime": {
     "end_time": "2025-03-02T19:21:56.140472Z",
     "start_time": "2025-03-02T19:21:56.126331Z"
    }
   },
   "cell_type": "code",
   "source": [
    "def get_dataset_object(\n",
    "        name: DATASET_NAMES,\n",
    "        split: t.Literal[\"train\", \"val\", \"test\"],\n",
    "        image_size: int,\n",
    "        download: bool = False,\n",
    "        do_transforms: bool = True,\n",
    "):\n",
    "    if name == \"EuroSATRGB\":\n",
    "        lg.debug(\"Loading EuroSATRGB dataset...\")\n",
    "        ds = dataset_processing.eurosat.EuroSATRGB(\n",
    "            split, image_size, download=download, do_transforms=do_transforms\n",
    "        )\n",
    "    elif name == \"EuroSATMS\":\n",
    "        lg.debug(\"Loading EuroSATMS dataset...\")\n",
    "        ds = dataset_processing.eurosat.EuroSATMS(\n",
    "            split, image_size, download=download, do_transforms=do_transforms\n",
    "        )\n",
    "    else:\n",
    "        lg.error(f\"Invalid dataset name ({name}) provided to get_dataset_object.\")\n",
    "        raise ValueError(f\"Dataset {name} does not exist.\")\n",
    "\n",
    "    lg.info(f\"Dataset {name} loaded with {len(ds)} samples.\")\n",
    "    return ds"
   ],
   "id": "827638db96c60b8f",
   "outputs": [],
   "execution_count": 22
  },
  {
   "metadata": {
    "ExecuteTime": {
     "end_time": "2025-03-02T19:15:00.359601Z",
     "start_time": "2025-03-02T19:15:00.349957Z"
    }
   },
   "cell_type": "code",
   "source": [
    "def get_model_object(\n",
    "        name: t.Literal[\"ResNet50\"],\n",
    "        num_classes: int,\n",
    ") -> nn.Module:\n",
    "    if name == \"ResNet50\":\n",
    "        lg.debug(\"Loading ResNet50 model...\")\n",
    "        m = helpers.models.FineTunedResNet50(num_classes)\n",
    "    else:\n",
    "        lg.error(f\"Invalid model name ({name}) provided to get_model_object.\")\n",
    "        raise ValueError(f\"Model {name} does not exist.\")\n",
    "\n",
    "    return m"
   ],
   "id": "bb96ba54def66f4b",
   "outputs": [],
   "execution_count": 18
  },
  {
   "metadata": {
    "ExecuteTime": {
     "end_time": "2025-03-02T19:15:03.741978Z",
     "start_time": "2025-03-02T19:15:03.183516Z"
    }
   },
   "cell_type": "code",
   "source": [
    "dataset_name = \"EuroSATMS\"\n",
    "model_name = \"ResNet50\"\n",
    "model = get_model_object(model_name, get_num_classes(dataset_name))"
   ],
   "id": "12e0bb8635b5534d",
   "outputs": [
    {
     "data": {
      "text/plain": [
       "224"
      ]
     },
     "execution_count": 19,
     "metadata": {},
     "output_type": "execute_result"
    }
   ],
   "execution_count": 19
  },
  {
   "metadata": {
    "ExecuteTime": {
     "end_time": "2025-03-02T20:31:27.156554Z",
     "start_time": "2025-03-02T20:31:27.065658Z"
    }
   },
   "cell_type": "code",
   "source": "training_dataset = get_dataset_object(dataset_name, \"train\", model.expected_input_size)",
   "id": "e175e10431cff2d5",
   "outputs": [],
   "execution_count": 155
  },
  {
   "metadata": {},
   "cell_type": "code",
   "outputs": [],
   "execution_count": null,
   "source": "",
   "id": "145d88995ead400d"
  }
 ],
 "metadata": {
  "kernelspec": {
   "display_name": "Python 3",
   "language": "python",
   "name": "python3"
  },
  "language_info": {
   "codemirror_mode": {
    "name": "ipython",
    "version": 2
   },
   "file_extension": ".py",
   "mimetype": "text/x-python",
   "name": "python",
   "nbconvert_exporter": "python",
   "pygments_lexer": "ipython2",
   "version": "2.7.6"
  }
 },
 "nbformat": 4,
 "nbformat_minor": 5
}
